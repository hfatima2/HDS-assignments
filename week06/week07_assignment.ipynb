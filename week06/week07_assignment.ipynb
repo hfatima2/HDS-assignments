{
  "cells": [
    {
      "cell_type": "markdown",
      "metadata": {
        "id": "view-in-github",
        "colab_type": "text"
      },
      "source": [
        "<a href=\"https://colab.research.google.com/github/hfatima2/HDS-assignments/blob/main/week06/week07_assignment.ipynb\" target=\"_parent\"><img src=\"https://colab.research.google.com/assets/colab-badge.svg\" alt=\"Open In Colab\"/></a>"
      ]
    },
    {
      "cell_type": "markdown",
      "metadata": {
        "id": "C01mrQ7gfeeF"
      },
      "source": [
        "# Week 7 Assignment\n",
        "\n",
        "We've been working with different types of data structures in Python (dictionary, list, etc), how those are represented in JSON documents, and how to write code to access specific data elements. In this week's assignment, you will need to create your own JSON document to store information about yourself and the grades you've received from week 1 to week 4 and the week 6 quiz.  That is, everything you should have received a grade for.  Then you'll need to show me you know how to navigate the JSON in that file.\n",
        "\n",
        "Different from what we've done in the past, you do not have to write any functions or include any docstrings.  Just create some JSON and write some code.\n",
        "\n",
        "---"
      ]
    },
    {
      "cell_type": "markdown",
      "metadata": {
        "id": "ejaA2ponfeeH"
      },
      "source": [
        "## 7.1 Create a JSON file\n",
        "\n",
        "Create a JSON file that contains your name, email, year you were born, all of the grades you've received back so far, and a comment about what you thought was most challenging on each of those assignments.  This can be any structure you choose, but make sure it uses a dictionary and a list, and has at least two levels of hierarchy.  That is, it can't just be one big long list."
      ]
    },
    {
      "cell_type": "markdown",
      "metadata": {
        "id": "UgJzIPA2feeJ"
      },
      "source": [
        "First, explain how your data structure is going to look..."
      ]
    },
    {
      "cell_type": "markdown",
      "source": [],
      "metadata": {
        "id": "ffbE6fsCxEkp"
      }
    },
    {
      "cell_type": "markdown",
      "source": [
        "This data structure is a JSON (JavaScript Object Notation) object. I am going to use key-value pairs to store information in a hierarchical way. The JSON code below contains 4 main keys: \"me\", \"place_visited\", \"grades\" and \"favorite_cricketers\".\n",
        "1.The \"me\" key holds an object with personal\n",
        "information such as my name, email, year\n",
        "of birth and birth place.\n",
        "2.The next key \"place_visited\" contains a nested object with a key \"cities\" holding an array of object. Each object in the array represent a visited city and year visited.\n",
        "3.\"Grade\": This key holds an array of objects, each representing a week's grade information with week number, score and a comment about the challenges.\n",
        "4.The last key \"favorite_cricketers\" holds another array of objects, each representing a favorite cricketer with details like name, IPL team and runs scored."
      ],
      "metadata": {
        "id": "S3emFCMxw6U1"
      }
    },
    {
      "cell_type": "markdown",
      "metadata": {
        "id": "Yz3paDJpfeeK"
      },
      "source": [
        "Then put the actual JSON you've created inside the multiline string below..."
      ]
    },
    {
      "cell_type": "code",
      "execution_count": 52,
      "metadata": {
        "id": "3oaeYBPAfeeK"
      },
      "outputs": [],
      "source": [
        "hds5210 = \"\"\"\n",
        "{\n",
        "    \"me\": {\n",
        "        \"name\": \"Huda Fatima\",\n",
        "        \"email\": \"hudafatima.fatima@slu.edu\",\n",
        "        \"year_of_birth\": 1999,\n",
        "        \"birth_place\": \"Saudi Arabia\"\n",
        "    },\n",
        "    \"places_visited\": {\n",
        "                \"cities\": [\n",
        "                    {\n",
        "                        \"name\": \"Jeddah\",\n",
        "                        \"year\": 2014\n",
        "                    },\n",
        "                    {\n",
        "                        \"name\": \"Makkah\",\n",
        "                        \"year\": 2015\n",
        "                    },\n",
        "                    {\n",
        "                        \"name\": \"Madinah\",\n",
        "                        \"year\": 2016\n",
        "                    },\n",
        "                    {\n",
        "                        \"name\": \"Riyadh\",\n",
        "                        \"year\": 2024\n",
        "                    },\n",
        "                    {\n",
        "                        \"name\": \"Dallas\",\n",
        "                        \"year\": 2018\n",
        "                    },\n",
        "                    {\n",
        "                        \"name\": \"Boston\",\n",
        "                        \"year\": 2019\n",
        "                    },\n",
        "                    {\n",
        "                        \"name\": \"Florida\",\n",
        "                        \"year\": 2021\n",
        "                    },\n",
        "                    {\n",
        "                        \"name\": \"Chicago\",\n",
        "                        \"year\": 2022\n",
        "                    },\n",
        "                    {\n",
        "                        \"name\": \"Saint Louis\",\n",
        "                        \"year\": 2024\n",
        "                    },\n",
        "                    {   \"name\": \"New York\",\n",
        "                        \"year\": 2024\n",
        "                    }\n",
        "                  ]\n",
        "    },\n",
        "    \"grades\": [\n",
        "      {\n",
        "            \"week\": 1,\n",
        "            \"score\": 10,\n",
        "            \"comment\": \"The given task was quite easy.\"\n",
        "        },\n",
        "        {\n",
        "            \"week\": 2,\n",
        "            \"score\": 10,\n",
        "            \"comment\": \"It was fairly easy after the thorough understanding of the topic in the class.\"\n",
        "        },\n",
        "        {\n",
        "            \"week\": 3,\n",
        "            \"score\": 10,\n",
        "            \"comment\": \"The challenge was keeping track of indentation and ensuring functions were defined correctly.\"\n",
        "        },\n",
        "        {\n",
        "            \"week\": 4,\n",
        "            \"score\": 10,\n",
        "            \"comment\": \"I struggled with dictionary comprehension and working with tuples and dictionaries.\"\n",
        "         }\n",
        "    ],\n",
        "    \"favorite_cricketers\": [\n",
        "        {\n",
        "            \"name\": \"Virat Kohli\",\n",
        "            \"ipl_team\": \"Royal Challengers Bangalore\",\n",
        "            \"runs\": 673\n",
        "        },\n",
        "        {\n",
        "            \"name\": \"Rohit Sharma\",\n",
        "            \"ipl_team\": \"Mumbai Indians\",\n",
        "            \"runs\": 503\n",
        "        },\n",
        "        {\n",
        "            \"name\": \"MS Dhoni\",\n",
        "            \"ipl_team\": \"Chennai Super Kings\",\n",
        "            \"runs\": 490\n",
        "        }\n",
        "    ]\n",
        "}\n",
        "\"\"\""
      ]
    },
    {
      "cell_type": "markdown",
      "metadata": {
        "id": "O95R8GHWfeeL"
      },
      "source": [
        "## 7.2 Do something with your JSON\n",
        "\n",
        "Now use Python code to do something with the Json above.  Turn it into English text, but make sure that you use at least one loop to access some dict or list content of your JSON.  Below, I've provided some basic code to read in the string above as JSON and return a Python object.  Your job is to work with that data structure and print out the important information like your name, email, and how you did on each assignment."
      ]
    },
    {
      "cell_type": "code",
      "execution_count": 53,
      "metadata": {
        "colab": {
          "base_uri": "https://localhost:8080/"
        },
        "id": "cTiEyxYPfeeL",
        "outputId": "e80ae9ab-0795-4f4e-fece-5e8acaf65a2f"
      },
      "outputs": [
        {
          "output_type": "stream",
          "name": "stdout",
          "text": [
            "Hi, my name is Huda Fatima. My email is hudafatima.fatima@slu.edu. I was born in 1999 in Saudi Arabia.\n",
            "For week 1, I scored 10 and comment is that The given task was quite easy.For week 2, I scored 10 and comment is that It was fairly easy after the thorough understanding of the topic in the class.For week 3, I scored 10 and comment is that The challenge was keeping track of indentation and ensuring functions were defined correctly.For week 4, I scored 10 and comment is that I struggled with dictionary comprehension and working with tuples and dictionaries.\n",
            "I visited Jeddah in 2014, Makkah in 2015, Madinah in 2016, Riyadh in 2024, Dallas in 2018, Boston in 2019, Florida in 2021, Chicago in 2022, Saint Louis in 2024, New York in 2024.\n",
            "I have 3 favorite cricketers. My favorite cricketers are Virat Kohli who played in Royal Challengers Bangalore and scored 673 runs.Rohit Sharma who played in Mumbai Indians and scored 503 runs.MS Dhoni who played in Chennai Super Kings and scored 490 runs.\n",
            "Virat Kohli made the highest runs compared to others and his highest score is 673\n"
          ]
        }
      ],
      "source": [
        "import json\n",
        "\n",
        "info = json.loads(hds5210)\n",
        "#Extract personal information\n",
        "me = info[\"me\"][\"name\"]\n",
        "email = info[\"me\"][\"email\"]\n",
        "year_of_birth = info[\"me\"][\"year_of_birth\"]\n",
        "birth_place = info[\"me\"][\"birth_place\"]\n",
        "\n",
        "#Prepare a list of places visited with year\n",
        "all_places_visited = []\n",
        "#Loop through each city visited\n",
        "for city in info[\"places_visited\"][\"cities\"]:\n",
        "    place_with_year = f\"{city['name']} in {city['year']}\"\n",
        "    all_places_visited.append(place_with_year)\n",
        "#Join the list into a single string\n",
        "places_visited = \", \".join(all_places_visited)\n",
        "\n",
        "#Prepare grades and remarks for each week\n",
        "grades_remarks = \"\"\n",
        "#Loop through each grade entry\n",
        "for grades in info[\"grades\"]:\n",
        "    week = grades[\"week\"]\n",
        "    score = grades[\"score\"]\n",
        "    comment = grades[\"comment\"]\n",
        "    grades_remarks += f\"For week {week}, I scored {score} and comment is that {comment}\"\n",
        "\n",
        "#Extract cricketers information\n",
        "cricketers_info = \"My favorite cricketers are \"\n",
        "\n",
        "#Get the total number of favorite cricketers\n",
        "total = len(info[\"favorite_cricketers\"])\n",
        "fav = f\"I have {total} favorite cricketers. \"\n",
        "cricketers_info = fav + \"My favorite cricketers are \"\n",
        "\n",
        "highest_runs = 0\n",
        "highest_runner =''\n",
        "\n",
        "#loop through each cricketer\n",
        "for cricketers in info[\"favorite_cricketers\"]:\n",
        "    name = cricketers[\"name\"]\n",
        "    ipl_team = cricketers[\"ipl_team\"]\n",
        "    runs = cricketers[\"runs\"]\n",
        "    cricketers_info += f\"{name} who played in {ipl_team} and scored {runs} runs, \"\n",
        "    #Check if the current cricketer has the highest runs\n",
        "    if(highest_runs < runs) :\n",
        "        highest_runs = runs\n",
        "        highest_runner = name\n",
        "    cricketers_info = cricketers_info.rstrip(\", \") + \".\"\n",
        "\n",
        "print(f\"Hi, my name is {me}. My email is {email}. I was born in {year_of_birth} in {birth_place}.\")\n",
        "print(grades_remarks)\n",
        "print(f\"I visited {places_visited}.\")\n",
        "print(cricketers_info)\n",
        "print(f\"{highest_runner} made the highest runs compared to others and his highest score is {highest_runs}\")\n"
      ]
    },
    {
      "cell_type": "markdown",
      "metadata": {
        "id": "nxEDEDDTfeeM"
      },
      "source": [
        "## 7.3 Reflect\n",
        "\n",
        "Write a paragraph on any reflections you have. Was this hard? Easy?  What parts were most challenging or easiest? What did you like or dislike about the assignment?  Share whatever important thoughts you have abou this assignment."
      ]
    },
    {
      "cell_type": "markdown",
      "metadata": {
        "id": "lRfV0v0xfeeM"
      },
      "source": [
        "In my opinion, this assignment was challenging yet fun. I found it hard to get started with this assignment because, although I am familiar with Python now, working with JSON seemed really different. I liked how I could write codes based on my personal information and views. However, I disliked the continous syntax errors and indentation error that kept popping up. It took me sometime to adjust to the JSON structure since it was new to me. But once I got the hang of it, things became easier. It was quite interesting to turn the JSON into English text via Python code. Overall, the assignment was a mix of challenges and learning oppurtunities."
      ]
    },
    {
      "cell_type": "markdown",
      "metadata": {
        "id": "RrX8e3W9feeM"
      },
      "source": [
        "---\n",
        "\n",
        "# Example\n",
        "\n",
        "Below is an example of something similar, but this uses information my and my friend's kids instead of grades."
      ]
    },
    {
      "cell_type": "code",
      "execution_count": 51,
      "metadata": {
        "colab": {
          "base_uri": "https://localhost:8080/"
        },
        "id": "XtT69Dy3feeM",
        "outputId": "7672ca97-c92b-4023-fb86-467c8a99c8bc"
      },
      "outputs": [
        {
          "output_type": "stream",
          "name": "stdout",
          "text": [
            "Hi, my name is Paul. I've got 3 kids. Their names are Ellie, Ada, Teddy.\n",
            "My friend, Anny has 1 kids. That's fewer than me. Their names are 1\n"
          ]
        }
      ],
      "source": [
        "hds5210 = \"\"\"\n",
        "{\n",
        "    \"me\": {\n",
        "        \"name\": \"Paul\",\n",
        "        \"kids\": [\"Ellie\", \"Ada\", \"Teddy\"]\n",
        "    },\n",
        "    \"friend\": {\n",
        "        \"name\": \"Anny\",\n",
        "        \"kids\": [\"Abby\"]\n",
        "    }\n",
        "}\n",
        "\"\"\"\n",
        "\n",
        "import json\n",
        "\n",
        "info = json.loads(hds5210)\n",
        "\n",
        "me = info[\"me\"][\"name\"]\n",
        "my_kids_count = len(info[\"me\"][\"kids\"])\n",
        "kids_list = \", \".join(info[\"me\"][\"kids\"])\n",
        "friend = info[\"friend\"][\"name\"]\n",
        "friends_kid_count = len(info[\"friend\"][\"kids\"])\n",
        "friend_kids = \", \".join(info[\"friend\"][\"kids\"])\n",
        "compare = \"more\" if friends_kid_count > my_kids_count else \"fewer\"\n",
        "\n",
        "print(f\"Hi, my name is {me}. I've got {my_kids_count} kids. Their names are {kids_list}.\")\n",
        "print(f\"My friend, {friend} has {friends_kid_count} kids. That's {compare} than me. Their names are {friends_kid_count}\")"
      ]
    }
  ],
  "metadata": {
    "kernelspec": {
      "display_name": "Python 3",
      "language": "python",
      "name": "python3"
    },
    "language_info": {
      "codemirror_mode": {
        "name": "ipython",
        "version": 3
      },
      "file_extension": ".py",
      "mimetype": "text/x-python",
      "name": "python",
      "nbconvert_exporter": "python",
      "pygments_lexer": "ipython3",
      "version": "3.9.16"
    },
    "colab": {
      "provenance": [],
      "include_colab_link": true
    }
  },
  "nbformat": 4,
  "nbformat_minor": 0
}