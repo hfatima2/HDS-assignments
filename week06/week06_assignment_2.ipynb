{
  "cells": [
    {
      "cell_type": "markdown",
      "metadata": {
        "id": "view-in-github",
        "colab_type": "text"
      },
      "source": [
        "<a href=\"https://colab.research.google.com/github/hfatima2/HDS-assignments/blob/main/week06/week06_assignment_2.ipynb\" target=\"_parent\"><img src=\"https://colab.research.google.com/assets/colab-badge.svg\" alt=\"Open In Colab\"/></a>"
      ]
    },
    {
      "cell_type": "markdown",
      "metadata": {
        "nbgrader": {
          "grade": false,
          "grade_id": "intro",
          "locked": true,
          "schema_version": 1,
          "solution": false
        },
        "id": "V5F_40mzIN6g"
      },
      "source": [
        "# Week 6 Exercises\n",
        "\n",
        "_McKinney 6.1_\n",
        "\n",
        "There are multiple ways to solve the problems below.  You can use any one of several approaches.  For example, you can read CSV files using Pandas or the csv module.  Your score won't depend on which modules you choose to use unless explicitly noted below, but your programming style will still matter."
      ]
    },
    {
      "cell_type": "markdown",
      "metadata": {
        "nbgrader": {
          "grade": false,
          "grade_id": "q1-description",
          "locked": true,
          "schema_version": 1,
          "solution": false
        },
        "id": "wfeFYob-IN6l"
      },
      "source": [
        "### 30.1 List of Allergies\n",
        "\n",
        "In the /data directory on the Jupyter server, there is a file called `allergies.json` that contains a list of patient allergies.  It is taken from sample data provided by the EHR vendor, Epic, here: https://open.epic.com/Clinical/Allergy\n",
        "\n",
        "Take some time to look at the structure of the file.  You can open it directly in Jupyter by clicking the _Home_ icon, then the _from_instructor_ folder, and then the _data_ folder.\n",
        "\n",
        "Within the file, you'll see that it is a dictionary with many items in it.  One of those items is called `entry` and that item is a list of things.  You can tell that because the item name is immediately followed by an opening square bracket, signifying the start of a list.  It's line 11 of the file: `  \"entry\": [`\n",
        "\n",
        "Write a function named `allergy_count(json_file)` that takes as one parameter the name of the JSON file and returns an integer number of entries in that file.  Your function should open the file, read the json into a Python object, and return how many items there are in the list of `entry`s."
      ]
    },
    {
      "cell_type": "code",
      "execution_count": 208,
      "metadata": {
        "id": "ju9bSIQHIN6n"
      },
      "outputs": [],
      "source": [
        "import json\n",
        "ALLERGIES_FILE=\"allergies.json\""
      ]
    },
    {
      "cell_type": "code",
      "execution_count": 209,
      "metadata": {
        "nbgrader": {
          "grade": false,
          "grade_id": "q1-answer",
          "locked": false,
          "schema_version": 1,
          "solution": true
        },
        "id": "8YFcvrmgIN6o"
      },
      "outputs": [],
      "source": [
        "entry = json.load(open(ALLERGIES_FILE))"
      ]
    },
    {
      "cell_type": "code",
      "source": [
        "def allergy_count(json_file):\n",
        "  \"\"\"\n",
        "  This function counts the number of allergy entries in the provided JSON file.\n",
        "\n",
        "  Parameter:\n",
        "        json_file (str): The path to the JSON file containing allergy data.\n",
        "\n",
        "  Returns:\n",
        "        int: The number of entries in the \"entry\" list from the JSON file.\n",
        "\n",
        "  Example:\n",
        "  >>> allergy_count(\"allergies.json\")\n",
        "  4\n",
        "    \"\"\"\n",
        "\n",
        "  entry = json.load(open(json_file))\n",
        "  return len(entry[\"entry\"])"
      ],
      "metadata": {
        "id": "TtF5NDdMKXYM"
      },
      "execution_count": 210,
      "outputs": []
    },
    {
      "cell_type": "code",
      "source": [
        "import doctest\n",
        "doctest.run_docstring_examples(allergy_count, globals(), verbose=True)"
      ],
      "metadata": {
        "collapsed": true,
        "id": "Q-lW1aPGU7-e",
        "outputId": "7139c046-d0f8-43b3-d59e-a9b4661dc313",
        "colab": {
          "base_uri": "https://localhost:8080/"
        }
      },
      "execution_count": 211,
      "outputs": [
        {
          "output_type": "stream",
          "name": "stdout",
          "text": [
            "Finding tests in NoName\n",
            "Trying:\n",
            "    allergy_count(\"allergies.json\")\n",
            "Expecting:\n",
            "    4\n",
            "ok\n"
          ]
        }
      ]
    },
    {
      "cell_type": "code",
      "execution_count": 212,
      "metadata": {
        "colab": {
          "base_uri": "https://localhost:8080/"
        },
        "id": "B_dNxaw0IN6p",
        "outputId": "fc4e1945-373f-4c84-e77b-330c4ccc4047"
      },
      "outputs": [
        {
          "output_type": "execute_result",
          "data": {
            "text/plain": [
              "4"
            ]
          },
          "metadata": {},
          "execution_count": 212
        }
      ],
      "source": [
        "allergy_count(ALLERGIES_FILE)"
      ]
    },
    {
      "cell_type": "code",
      "execution_count": 213,
      "metadata": {
        "nbgrader": {
          "grade": true,
          "grade_id": "q1-tests",
          "locked": true,
          "points": 5,
          "schema_version": 1,
          "solution": false
        },
        "id": "ugrIssmUIN6p"
      },
      "outputs": [],
      "source": [
        "assert type(allergy_count(ALLERGIES_FILE)) == int\n",
        "assert allergy_count(ALLERGIES_FILE) == 4"
      ]
    },
    {
      "cell_type": "markdown",
      "metadata": {
        "id": "QDafs1bMIN6q"
      },
      "source": [
        "### 30.2 Number of Patients\n",
        "\n",
        "If you dig a little bit deaper into this list of allergies, you'll see that each result has a patient associated with it.  Create a funcation called `patient_count(json_file)` that will count how many unique patients we have in this JSON structure.  "
      ]
    },
    {
      "cell_type": "code",
      "execution_count": 214,
      "metadata": {
        "id": "0opXVhTMIN6q"
      },
      "outputs": [],
      "source": [
        "ALLERGIES_FILE=\"allergies.json\"\n",
        "import json\n",
        "\n",
        "def patient_count(json_file):\n",
        "\n",
        "   \"\"\"\n",
        "    Counts the number of unique patients in the provided JSON file.\n",
        "\n",
        "    This function reads a JSON file containing allergy data, extracts the patient information from each\n",
        "    entry, and returns the count of unique patients. The patient's display name is used to determine uniqueness.\n",
        "\n",
        "    Parameter:\n",
        "        json_file (str): The path to the JSON file containing allergy data.\n",
        "\n",
        "    Returns:\n",
        "        int: The number of unique patients represented in the JSON file.\n",
        "\n",
        "    Example:\n",
        "    >>> patient_count(\"allergies.json\")\n",
        "    2\n",
        "\n",
        "   \"\"\"\n",
        "   with open(json_file) as file:\n",
        "    data = json.load(file)\n",
        "\n",
        "#Extract the list of allergy entries from the \"entry\" key in the JSON data.\n",
        "   entries = data[\"entry\"]\n",
        "\n",
        "#Use a set to store unique patient IDs\n",
        "   unique_patients = set()\n",
        "\n",
        "#Loop through the entries to collect unique patient names\n",
        "   for entry in entries:\n",
        "      patient_display = entry.get(\"resource\", {}).get(\"patient\", {}).get(\"display\", None)\n",
        "\n",
        "      if patient_display:\n",
        "                unique_patients.add(patient_display)\n",
        "\n",
        "   return len(unique_patients)\n",
        "\n",
        ""
      ]
    },
    {
      "cell_type": "code",
      "source": [
        "import doctest\n",
        "doctest.run_docstring_examples(patient_count, globals(), verbose=True)"
      ],
      "metadata": {
        "id": "V6jjPgfbV7r4",
        "outputId": "32fec042-0879-4f6a-d31f-d27bc8231460",
        "colab": {
          "base_uri": "https://localhost:8080/"
        }
      },
      "execution_count": 215,
      "outputs": [
        {
          "output_type": "stream",
          "name": "stdout",
          "text": [
            "Finding tests in NoName\n",
            "Trying:\n",
            "    patient_count(\"allergies.json\")\n",
            "Expecting:\n",
            "    2\n",
            "ok\n"
          ]
        }
      ]
    },
    {
      "cell_type": "code",
      "source": [
        "type(patient_count)"
      ],
      "metadata": {
        "colab": {
          "base_uri": "https://localhost:8080/"
        },
        "id": "BxDnTfzBM1FT",
        "outputId": "b08be6eb-de04-47c3-b552-50eb04b14216"
      },
      "execution_count": 216,
      "outputs": [
        {
          "output_type": "execute_result",
          "data": {
            "text/plain": [
              "function"
            ]
          },
          "metadata": {},
          "execution_count": 216
        }
      ]
    },
    {
      "cell_type": "code",
      "execution_count": 217,
      "metadata": {
        "colab": {
          "base_uri": "https://localhost:8080/"
        },
        "id": "lXgI-cJhIN6r",
        "outputId": "77e76c20-a95d-4910-b7c2-18cda07c09eb"
      },
      "outputs": [
        {
          "output_type": "execute_result",
          "data": {
            "text/plain": [
              "2"
            ]
          },
          "metadata": {},
          "execution_count": 217
        }
      ],
      "source": [
        "patient_count(ALLERGIES_FILE)"
      ]
    },
    {
      "cell_type": "code",
      "execution_count": 218,
      "metadata": {
        "id": "Xl4ELRv4IN6r"
      },
      "outputs": [],
      "source": [
        "assert type(patient_count(ALLERGIES_FILE)) == int\n",
        "assert patient_count(ALLERGIES_FILE) == 2"
      ]
    },
    {
      "cell_type": "markdown",
      "metadata": {
        "id": "wGa-u7ssIN6r"
      },
      "source": [
        "### 30.3 How Many Allergies per Patient\n",
        "\n",
        "Although each entry is a separate allergy, several of them are for the same patient.  Write a function called `allergy_per_patient(json_file)` that counts up how many allergies each patient has.\n"
      ]
    },
    {
      "cell_type": "code",
      "execution_count": 219,
      "metadata": {
        "id": "92QlVWK9IN6r"
      },
      "outputs": [],
      "source": [
        "ALLERGIES_FILE=\"allergies.json\"\n",
        "\n",
        "def allergy_per_patient(json_file):\n",
        "  \"\"\"\n",
        "    This function reads a JSON file containing allergy data and returns a dictionary\n",
        "    mapping each patient to the number of allergies they have.\n",
        "\n",
        "    Parameters:\n",
        "    json_file (str): The path to the JSON file.\n",
        "\n",
        "    Returns:\n",
        "    dict: A dictionary where keys are patient names and values are the count of their allergies.\n",
        "\n",
        "    Example:\n",
        "\n",
        "    >>> allergy_per_patient(\"allergies.json\")\n",
        "    {'Jason Argonaut': 3, 'Paul Boal': 1}\n",
        "\n",
        "\n",
        "    \"\"\"\n",
        "  with open(json_file) as file:\n",
        "    data = json.load(file)\n",
        "\n",
        "#Extract the \"entry\" section from the JSON, which contains the allergy records\n",
        "  entries = data[\"entry\"]\n",
        "\n",
        "#Initialize an empty dictionary to store the count of allergies for each patient\n",
        "  patient_allergy_count = {}\n",
        "\n",
        "#Loop through each entry to count the allergies for each patient\n",
        "  for entry in entries:\n",
        "    patient_display = entry.get(\"resource\", {}).get(\"patient\", {}).get(\"display\", None)\n",
        "\n",
        "#Check if 'patient_display' contains a valid value (not None or empty).\n",
        "    if patient_display:\n",
        "      #if the patient is already in the dictionary, increment their allergy count\n",
        "      if patient_display in patient_allergy_count:\n",
        "         patient_allergy_count[patient_display] += 1\n",
        "\n",
        "      else:\n",
        "         patient_allergy_count[patient_display] = 1     #If the patient is not in the dictionary, add them with an initial count of 1.\n",
        "\n",
        "\n",
        "  return dict(patient_allergy_count)\n",
        "\n",
        "\n"
      ]
    },
    {
      "cell_type": "code",
      "execution_count": 132,
      "metadata": {
        "colab": {
          "base_uri": "https://localhost:8080/"
        },
        "id": "TKLGgS6DIN6s",
        "outputId": "f9b65826-27b8-447b-f40e-8770ed0d65eb"
      },
      "outputs": [
        {
          "output_type": "execute_result",
          "data": {
            "text/plain": [
              "{'Jason Argonaut': 3, 'Paul Boal': 1}"
            ]
          },
          "metadata": {},
          "execution_count": 132
        }
      ],
      "source": [
        "allergy_per_patient(ALLERGIES_FILE)"
      ]
    },
    {
      "cell_type": "code",
      "execution_count": 133,
      "metadata": {
        "id": "P7R2fjQbIN6s"
      },
      "outputs": [],
      "source": [
        "assert type(allergy_per_patient(ALLERGIES_FILE)) == dict\n",
        "assert allergy_per_patient(ALLERGIES_FILE) == {'Paul Boal': 1, 'Jason Argonaut': 3}"
      ]
    },
    {
      "cell_type": "code",
      "source": [
        "import doctest\n",
        "doctest.run_docstring_examples(allergy_per_patient, globals(), verbose=True)"
      ],
      "metadata": {
        "id": "o8CAttDcdTX8",
        "outputId": "9ea2d515-5e9d-46cf-c09d-55950512780e",
        "colab": {
          "base_uri": "https://localhost:8080/"
        }
      },
      "execution_count": 220,
      "outputs": [
        {
          "output_type": "stream",
          "name": "stdout",
          "text": [
            "Finding tests in NoName\n",
            "Trying:\n",
            "    allergy_per_patient(\"allergies.json\")\n",
            "Expecting:\n",
            "    {'Jason Argonaut': 3, 'Paul Boal': 1}\n",
            "ok\n"
          ]
        }
      ]
    },
    {
      "cell_type": "markdown",
      "metadata": {
        "nbgrader": {
          "grade": false,
          "grade_id": "q2-question",
          "locked": true,
          "schema_version": 1,
          "solution": false
        },
        "id": "dYG6rHZbIN6s"
      },
      "source": [
        "### 30.4 Patient Allergies and Reaction\n",
        "\n",
        "You'll see in the file that each of the items in the `entry` list have several other attributes including a patient name, substance text representation, and a reaction manifestation.  Create a function named `allergy_list(json_file)` that will create an output list that has patient name, allergy, and reaction for each `entry`.  The actual result you should get will be:\n",
        "\n",
        "```python\n",
        "[['Jason Argonaut', 'PENICILLIN G', 'Hives'],\n",
        " ['Paul Boal', 'PENICILLIN G', 'Bruising'],\n",
        " ['Jason Argonaut', 'SHELLFISH-DERIVED PRODUCTS', 'Itching'],\n",
        " ['Jason Argonaut', 'STRAWBERRY', 'Anaphylaxis']]\n",
        "```\n",
        "\n",
        "You'll notice that the reaction and the manifestation of that action are lists.  You only need to capture the first reaction and the first manifestation of the action.  That is, if there is a list of things, just output the first one."
      ]
    },
    {
      "cell_type": "code",
      "execution_count": 221,
      "metadata": {
        "nbgrader": {
          "grade": false,
          "grade_id": "q2-answer",
          "locked": false,
          "schema_version": 1,
          "solution": true
        },
        "id": "4p3Gl41eIN6s"
      },
      "outputs": [],
      "source": [
        "def allergy_list(json_file):\n",
        "  \"\"\"\n",
        "  This function generates a list of allergies from a JSON file.\n",
        "\n",
        "  Parameters:\n",
        "    json_file (str): The path to the JSON file containing allergy information.\n",
        "\n",
        "  Returns:\n",
        "    list: A list of lists, where each inner list contains a patient's name, the medication name,\n",
        "           and the allergy reaction associated with it.\n",
        "\n",
        "test:\n",
        ">>> allergy_list(ALLERGIES_FILE)\n",
        "[['Jason Argonaut', 'PENICILLIN G', 'Hives'], ['Jason Argonaut', 'SHELLFISH-DERIVED PRODUCTS', 'Itching'], ['Jason Argonaut', 'STRAWBERRY', 'Anaphylaxis'], ['Paul Boal', 'PENICILLIN G', 'Bruising']]\n",
        "\"\"\"\n",
        "\n",
        "  with open(json_file) as file:\n",
        "      data = json.load(file)\n",
        "      entries = data[\"entry\"]\n",
        "\n",
        "#Initialize an empty list to store the allergy information for each patient.\n",
        "      allergy_list = []\n",
        "\n",
        "#Loop through each entry in the list of allergy records.\n",
        "  for entry in entries:\n",
        "        patient_name = entry.get('resource').get('patient').get('display');\n",
        "        med_name = entry.get('resource').get('substance').get('text');\n",
        "        allergy_reaction = entry.get('resource').get('reaction')[0].get('manifestation')[0].get('text');\n",
        "\n",
        "# Append a list containing the patient's name, medication name, and allergy reaction to the allergy_list.\n",
        "        allergy_list.append([patient_name, med_name, allergy_reaction])\n",
        "\n",
        "  allergy_list.sort()\n",
        "  return allergy_list\n",
        "\n"
      ]
    },
    {
      "cell_type": "code",
      "source": [
        "import doctest\n",
        "doctest.run_docstring_examples(allergy_list, globals(), verbose=True)"
      ],
      "metadata": {
        "id": "RVDwdFqvWoBI",
        "outputId": "26318e8a-608c-492f-bdfc-a097f6d04e17",
        "colab": {
          "base_uri": "https://localhost:8080/"
        }
      },
      "execution_count": 222,
      "outputs": [
        {
          "output_type": "stream",
          "name": "stdout",
          "text": [
            "Finding tests in NoName\n",
            "Trying:\n",
            "    allergy_list(ALLERGIES_FILE)\n",
            "Expecting:\n",
            "    [['Jason Argonaut', 'PENICILLIN G', 'Hives'], ['Jason Argonaut', 'SHELLFISH-DERIVED PRODUCTS', 'Itching'], ['Jason Argonaut', 'STRAWBERRY', 'Anaphylaxis'], ['Paul Boal', 'PENICILLIN G', 'Bruising']]\n",
            "ok\n"
          ]
        }
      ]
    },
    {
      "cell_type": "code",
      "execution_count": 223,
      "metadata": {
        "colab": {
          "base_uri": "https://localhost:8080/"
        },
        "id": "KpclJ7M8IN6t",
        "outputId": "1b42bd83-7264-487c-9fa5-48f50a1718c2"
      },
      "outputs": [
        {
          "output_type": "execute_result",
          "data": {
            "text/plain": [
              "[['Jason Argonaut', 'PENICILLIN G', 'Hives'],\n",
              " ['Jason Argonaut', 'SHELLFISH-DERIVED PRODUCTS', 'Itching'],\n",
              " ['Jason Argonaut', 'STRAWBERRY', 'Anaphylaxis'],\n",
              " ['Paul Boal', 'PENICILLIN G', 'Bruising']]"
            ]
          },
          "metadata": {},
          "execution_count": 223
        }
      ],
      "source": [
        "allergy_list(ALLERGIES_FILE)"
      ]
    },
    {
      "cell_type": "code",
      "execution_count": 224,
      "metadata": {
        "nbgrader": {
          "grade": true,
          "grade_id": "q2-tests",
          "locked": true,
          "points": 10,
          "schema_version": 1,
          "solution": false
        },
        "id": "hIpClqzVIN6t"
      },
      "outputs": [],
      "source": [
        "assert allergy_list(ALLERGIES_FILE) == [['Jason Argonaut', 'PENICILLIN G', 'Hives'],\n",
        " ['Jason Argonaut', 'SHELLFISH-DERIVED PRODUCTS', 'Itching'],\n",
        " ['Jason Argonaut', 'STRAWBERRY', 'Anaphylaxis'],\n",
        " ['Paul Boal', 'PENICILLIN G', 'Bruising']]\n",
        ""
      ]
    },
    {
      "cell_type": "markdown",
      "metadata": {
        "nbgrader": {
          "grade": false,
          "grade_id": "q3-question",
          "locked": true,
          "schema_version": 1,
          "solution": false
        },
        "id": "qXe3olGFIN6t"
      },
      "source": [
        "### 30.5 Allergy Reaction\n",
        "\n",
        "Write a function called `allergy_reaction(json_file,patient,substance)` that takes three parameter and returns the reaction that will happen if the patient takes the specified substance.  You can solve this, in part, by calling your `allergy_list` function inside your new `allergy_reaction` function.\n",
        "\n",
        "If the substance is not found in the allergy list, the function should return None."
      ]
    },
    {
      "cell_type": "code",
      "execution_count": 225,
      "metadata": {
        "nbgrader": {
          "grade": false,
          "grade_id": "q3-answer",
          "locked": false,
          "schema_version": 1,
          "solution": true
        },
        "id": "rJMUmVa-IN6t"
      },
      "outputs": [],
      "source": [
        "def allergy_reaction(json_file, patient, diagnosis):\n",
        "    \"\"\"\n",
        "    This function retrieves the allergy reaction for a specific patient and diagnosis from a JSON file.\n",
        "\n",
        "    Parameters:\n",
        "    json_file (str): The path to the JSON file containing allergy information.\n",
        "    patient (str): The name of the patient whose allergy reaction is to be retrieved.\n",
        "    diagnosis (str): The diagnosis or medication related to the allergy.\n",
        "\n",
        "    Returns:\n",
        "    str: The allergy reaction associated with the given patient and diagnosis, or None if not found.\n",
        "\n",
        "    Example:\n",
        "    >>> allergy_reaction(\"allergies.json\", \"Jason Argonaut\", \"PENICILLIN G\")\n",
        "    'Hives'\n",
        "\n",
        "    >>> allergy_reaction(\"allergies.json\", \"Jason Argonaut\", \"SHELLFISH-DERIVED PRODUCTS\")\n",
        "    'Itching'\n",
        "\n",
        "    >>> allergy_reaction(\"allergies.json\", \"Jason Argonaut\", \"STRAWBERRY\")\n",
        "    'Anaphylaxis'\n",
        "    \"\"\"\n",
        "\n",
        "    with open(json_file) as file:\n",
        "      data= json.load(file)\n",
        "      entries = data[\"entry\"]\n",
        "\n",
        "#Initialize an empty dictionary to store patient-medication as keys and their reactions as values\n",
        "      allergy_dict = {}\n",
        "\n",
        "#Loop through each allergy record in the entries list\n",
        "      for entry in entries:\n",
        "        patient_name = entry.get('resource').get('patient').get('display');  #Extract the patient's name from the entry\n",
        "        med_name = entry.get('resource').get('substance').get('text');       #Extract the medication name (substance) from the entry\n",
        "        allergy_reaction = entry.get('resource').get('reaction')[0].get('manifestation')[0].get('text');  # Extract the first manifestation of the allergic reaction from the entry\n",
        "\n",
        "# Update the 'allergy_dict' dictionary, using the patient name and medication as the key, and the reaction as the value\n",
        "        allergy_dict.update({patient_name + med_name : allergy_reaction})\n",
        "\n",
        "#Construct the dictionary key by combining the patient name and diagnosis (medication)\n",
        "        key = patient+diagnosis\n",
        "\n",
        "\n",
        "    return allergy_dict.get(key)"
      ]
    },
    {
      "cell_type": "code",
      "source": [
        "import doctest\n",
        "doctest.run_docstring_examples(allergy_reaction, globals(), verbose=True)"
      ],
      "metadata": {
        "id": "fmen_NOxXoDy",
        "outputId": "26931a48-86fc-435e-c041-d44d4b4414dd",
        "colab": {
          "base_uri": "https://localhost:8080/"
        }
      },
      "execution_count": 226,
      "outputs": [
        {
          "output_type": "stream",
          "name": "stdout",
          "text": [
            "Finding tests in NoName\n",
            "Trying:\n",
            "    allergy_reaction(\"allergies.json\", \"Jason Argonaut\", \"PENICILLIN G\")\n",
            "Expecting:\n",
            "    'Hives'\n",
            "ok\n",
            "Trying:\n",
            "    allergy_reaction(\"allergies.json\", \"Jason Argonaut\", \"SHELLFISH-DERIVED PRODUCTS\")\n",
            "Expecting:\n",
            "    'Itching'\n",
            "ok\n",
            "Trying:\n",
            "    allergy_reaction(\"allergies.json\", \"Jason Argonaut\", \"STRAWBERRY\")\n",
            "Expecting:\n",
            "    'Anaphylaxis'\n",
            "ok\n"
          ]
        }
      ]
    },
    {
      "cell_type": "code",
      "execution_count": 227,
      "metadata": {
        "colab": {
          "base_uri": "https://localhost:8080/",
          "height": 36
        },
        "id": "upUvGe-3IN6t",
        "outputId": "79d6fefe-b2cf-4bfa-ce7a-b8dd53bcb632"
      },
      "outputs": [
        {
          "output_type": "execute_result",
          "data": {
            "text/plain": [
              "'Hives'"
            ],
            "application/vnd.google.colaboratory.intrinsic+json": {
              "type": "string"
            }
          },
          "metadata": {},
          "execution_count": 227
        }
      ],
      "source": [
        "allergy_reaction(ALLERGIES_FILE, 'Jason Argonaut', 'PENICILLIN G')"
      ]
    },
    {
      "cell_type": "code",
      "execution_count": 228,
      "metadata": {
        "nbgrader": {
          "grade": true,
          "grade_id": "q3-tests",
          "locked": true,
          "points": 5,
          "schema_version": 1,
          "solution": false
        },
        "id": "GcGJ_bf7IN6t"
      },
      "outputs": [],
      "source": [
        "assert allergy_reaction(ALLERGIES_FILE, 'Jason Argonaut', 'PENICILLIN G') == 'Hives'\n",
        "assert allergy_reaction(ALLERGIES_FILE, 'Jason Argonaut', 'SHELLFISH-DERIVED PRODUCTS') == 'Itching'\n",
        "assert allergy_reaction(ALLERGIES_FILE, 'Jason Argonaut', 'STRAWBERRY') == 'Anaphylaxis'\n",
        "assert allergy_reaction(ALLERGIES_FILE, 'Jason Argonaut', 'PENICILLIN') == None\n",
        "assert allergy_reaction(ALLERGIES_FILE, 'Paul Boal', 'PENICILLIN G') == 'Bruising'"
      ]
    },
    {
      "cell_type": "markdown",
      "metadata": {
        "id": "IoIYoHLPIN6t"
      },
      "source": [
        "---\n",
        "\n",
        "## Check your work above\n",
        "\n",
        "If you didn't get them all correct, take a few minutes to think through those that aren't correct.\n",
        "\n",
        "\n",
        "## Submitting Your Work\n",
        "\n",
        "In order to submit your work, you'll need to save this notebook file back to GitHub.  To do that in Google Colab:\n",
        "1. File -> Save a Copy in GitHub\n",
        "2. Make sure your HDS5210 repository is selected\n",
        "3. Make sure the file name includes the week number like this: `week06/week06_assignment_2.ipynb`\n",
        "4. Add a commit message that means something\n",
        "\n",
        "**Be sure week names are lowercase and use a two digit week number!!**\n",
        "\n",
        "**Be sure you use the same file name provided by the instructor!!**\n",
        "\n"
      ]
    }
  ],
  "metadata": {
    "celltoolbar": "Create Assignment",
    "kernelspec": {
      "display_name": "Python 3",
      "language": "python",
      "name": "python3"
    },
    "language_info": {
      "codemirror_mode": {
        "name": "ipython",
        "version": 3
      },
      "file_extension": ".py",
      "mimetype": "text/x-python",
      "name": "python",
      "nbconvert_exporter": "python",
      "pygments_lexer": "ipython3",
      "version": "3.9.16"
    },
    "colab": {
      "provenance": [],
      "include_colab_link": true
    }
  },
  "nbformat": 4,
  "nbformat_minor": 0
}