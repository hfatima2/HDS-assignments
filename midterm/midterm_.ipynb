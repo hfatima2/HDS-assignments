{
  "cells": [
    {
      "cell_type": "markdown",
      "metadata": {
        "id": "view-in-github",
        "colab_type": "text"
      },
      "source": [
        "<a href=\"https://colab.research.google.com/github/hfatima2/HDS-assignments/blob/main/midterm/midterm_.ipynb\" target=\"_parent\"><img src=\"https://colab.research.google.com/assets/colab-badge.svg\" alt=\"Open In Colab\"/></a>"
      ]
    },
    {
      "cell_type": "markdown",
      "metadata": {
        "id": "L3jk8PxuMDXg"
      },
      "source": [
        "### Mid-term for HDS5210\n",
        "\n",
        "Your supervisor is concerned about 4-year survival risks for COPD. She has asked for you to do some analysis using a new metric, BODE. BODE is an improvement on a previous metric and promises to provide insight on survival risks.\n",
        "\n",
        "BODE is defined here. https://www.mdcalc.com/calc/3916/bode-index-copd-survival#evidence\n",
        "\n",
        "Your assignment is to create a BODE calculation, use it to calculate BODE scores and BODE survival rates for a group of patients. Then we want to evaluate the average BODE scores and BODE survival rates for each area hospital.\n",
        "\n",
        "Your patient input file will have the following columns:\n",
        "NAME,SSN,LANGUAGE,JOB,HEIGHT_M,WEIGHT_KG,fev_pct,dyspnea_description,distance_in_meters,hospital\n",
        "\n",
        "BODE calculations require a BMI value, so you will have to create a function for it.\n",
        "\n",
        "Your output should be in the form of two CSV files, patient_output.csv and hospital_output.csv.\n",
        "\n",
        "Patient_output will have the following columns:\n",
        "NAME,BODE_SCORE,BODE_RISK,HOSPITAL\n",
        "\n",
        "Hospital output will have the following columns:\n",
        "HOSPITAL_NAME, COPD_COUNT, PCT_OF_COPD_CASES_OVER_BEDS, AVG_SCORE, AVG_RISK\n",
        "\n",
        "Each function you create should have documentation and a suitable number of test cases. If the input data could be wrong, make sure to raise a Value Error.\n",
        "\n",
        "For this assignment, use the doctest, json, and csv libraries. Pandas is not allowed for this assignment."
      ]
    },
    {
      "cell_type": "code",
      "execution_count": 232,
      "metadata": {
        "id": "Jnyyu7AOMDXk"
      },
      "outputs": [],
      "source": [
        "import doctest\n",
        "import json\n",
        "import csv"
      ]
    },
    {
      "cell_type": "markdown",
      "metadata": {
        "id": "s9-cKO7IMDXl"
      },
      "source": [
        "### Step 1: Calculate BMI"
      ]
    },
    {
      "cell_type": "code",
      "execution_count": 233,
      "metadata": {
        "id": "mZAzHTSPMDXl"
      },
      "outputs": [],
      "source": [
        "def getBMI(weight_kg, height_m):\n",
        "  \"\"\"\n",
        "  Calculate Body Mass Index based on weight in kilograms and height in meters.\n",
        "\n",
        "  Parameters:\n",
        "  weight_kg (float): Weight in kilograms.\n",
        "  height_m (float): Height in meters.\n",
        "\n",
        "  Returns:\n",
        "  float: BMI value.\n",
        "\n",
        "  Example:\n",
        "  >>> getBMI(70, 1.75)\n",
        "  22.857142857142858\n",
        "\n",
        "  >>> getBMI(80, 1.8)\n",
        "  24.691358024691358\n",
        "\n",
        "  >>> getBMI(60, 1.6)\n",
        "  23.437499999999996\n",
        "\n",
        "  >>> getBMI(0, 1.75)\n",
        "  Traceback (most recent call last):\n",
        "      ...\n",
        "  ValueError: Weight and height must be greater than zero.\n",
        "\n",
        "  \"\"\"\n",
        "  #check if weight and height are greater than zero\n",
        "  if weight_kg <= 0 or height_m <= 0:\n",
        "    raise ValueError(\"Weight and height must be greater than zero.\")\n",
        "\n",
        "  #calculate bmi by dividing weight in kilograms by the squared height\n",
        "  bmi = weight_kg / (height_m ** 2)\n",
        "\n",
        "  #return calculated BMI\n",
        "  return bmi"
      ]
    },
    {
      "cell_type": "code",
      "source": [
        "assert round(getBMI(70, 1.75), 2) == 22.86\n",
        "assert round(getBMI(80, 1.8), 2) == 24.69\n",
        "assert round(getBMI(60, 1.6),2) == 23.44"
      ],
      "metadata": {
        "id": "1uMFLKJRIOtI"
      },
      "execution_count": 234,
      "outputs": []
    },
    {
      "cell_type": "code",
      "source": [
        "import doctest\n",
        "doctest.run_docstring_examples(getBMI, globals(), verbose=True)"
      ],
      "metadata": {
        "colab": {
          "base_uri": "https://localhost:8080/"
        },
        "id": "jbev8TdqIS3w",
        "outputId": "ff7de8fb-ec96-41d7-d38d-368f281fe6fa"
      },
      "execution_count": 235,
      "outputs": [
        {
          "output_type": "stream",
          "name": "stdout",
          "text": [
            "Finding tests in NoName\n",
            "Trying:\n",
            "    getBMI(70, 1.75)\n",
            "Expecting:\n",
            "    22.857142857142858\n",
            "ok\n",
            "Trying:\n",
            "    getBMI(80, 1.8)\n",
            "Expecting:\n",
            "    24.691358024691358\n",
            "ok\n",
            "Trying:\n",
            "    getBMI(60, 1.6)\n",
            "Expecting:\n",
            "    23.437499999999996\n",
            "ok\n",
            "Trying:\n",
            "    getBMI(0, 1.75)\n",
            "Expecting:\n",
            "    Traceback (most recent call last):\n",
            "        ...\n",
            "    ValueError: Weight and height must be greater than zero.\n",
            "ok\n"
          ]
        }
      ]
    },
    {
      "cell_type": "markdown",
      "metadata": {
        "id": "TxorWRrbMDXm"
      },
      "source": [
        "### Step 2: Calculate BODE Score"
      ]
    },
    {
      "cell_type": "code",
      "execution_count": 236,
      "metadata": {
        "id": "wBCtnLX7GYRD"
      },
      "outputs": [],
      "source": [
        "def calculate_bode_score(fev1_percent, dyspnea_description, six_minute_walk_distance, bmi):\n",
        "    \"\"\"\n",
        "    Calculate the BODE score based on FEV1%, dyspnea description,\n",
        "    six-minute walk distance, and BMI.\n",
        "\n",
        "    Parameters:\n",
        "    fev1_percent (float): FEV1% value.\n",
        "    dyspnea_description (int): Dyspnea score acc to description (mMRC scale).\n",
        "    six_minute_walk_distance (float): Six- minute walk distance in meters.\n",
        "    BMI (float): BMI value.\n",
        "\n",
        "    Returns:\n",
        "    int: BODE score.\n",
        "\n",
        "    Raises:\n",
        "    ValueError: If the FEV1%, six-minute walk distance, or BMI is negative.\n",
        "\n",
        "    Examples:\n",
        "    >>> calculate_bode_score(70, \"ONLY STRENUOUS EXERCISE\", 350, 25)\n",
        "    0\n",
        "    >>> calculate_bode_score(55, \"WALKING UPHILL\", 300, 22)\n",
        "    2\n",
        "    >>> calculate_bode_score(40, \"STOPS AFTER A FEW MINUTES\", 100, 18)\n",
        "    8\n",
        "    >>> calculate_bode_score(30, \"UNABLE TO LEAVE HOME\", 50, 20)\n",
        "    10\n",
        "\n",
        "    \"\"\"\n",
        "    # Check for negative values\n",
        "    if fev1_percent < 0 or six_minute_walk_distance < 0 or bmi < 0:\n",
        "        raise ValueError(\"FEV1%, six-minute walk distance, and BMI cannot be negative.\")\n",
        "\n",
        "    #FEV1% score\n",
        "    if fev1_percent >= 65:\n",
        "        fev1_score = 0\n",
        "    elif 50 <= fev1_percent <= 64:\n",
        "        fev1_score = 1\n",
        "    elif 36 <= fev1_percent <= 49:\n",
        "        fev1_score = 2\n",
        "    else:  # fev1_percent <= 35\n",
        "        fev1_score = 3\n",
        "\n",
        "    #Dyspnea scale based on descriptions\n",
        "    dyspnea_scale = 0\n",
        "    if dyspnea_description == \"ONLY STRENUOUS EXERCISE\":\n",
        "        dyspnea_scale = 0\n",
        "    elif dyspnea_description == \"WALKING UPHILL\" or dyspnea_description == \"WHEN HURRYING\":\n",
        "        dyspnea_scale = 1\n",
        "    elif dyspnea_description == \"STOPS WHEN WALKING AT PACE\" or dyspnea_description == \"SLOWER THAN PEERS\":\n",
        "        dyspnea_scale = 2\n",
        "    elif dyspnea_description == \"STOPS AFTER 100 YARDS\" or dyspnea_description == \"STOPS AFTER A FEW MINUTES\":\n",
        "        dyspnea_scale = 3\n",
        "    elif dyspnea_description == \"BREATHLESS WHEN DRESSING\" or dyspnea_description == \"UNABLE TO LEAVE HOME\":\n",
        "        dyspnea_scale = 4\n",
        "\n",
        "    # Dyspnea score (mMRC scale)\n",
        "    if dyspnea_scale in [0, 1]:\n",
        "        dyspnea_score = 0\n",
        "    elif dyspnea_scale == 2:\n",
        "        dyspnea_score = 1\n",
        "    elif dyspnea_scale == 3:\n",
        "        dyspnea_score = 2\n",
        "    else:  # dyspnea_scale == 4\n",
        "        dyspnea_score = 3\n",
        "\n",
        "    # 6-Minute Walk Test score\n",
        "    if six_minute_walk_distance >= 350:\n",
        "        walk_score = 0\n",
        "    elif 250 <= six_minute_walk_distance <= 349:\n",
        "        walk_score = 1\n",
        "    elif 150 <= six_minute_walk_distance <= 249:\n",
        "        walk_score = 2\n",
        "    else:  # six_minute_walk_distance <= 149\n",
        "        walk_score = 3\n",
        "\n",
        "    # BMI score\n",
        "    bmi_score = 0 if bmi >= 21 else 1\n",
        "\n",
        "    # Calculate total BODE score\n",
        "    bode_score = fev1_score + dyspnea_score + walk_score + bmi_score\n",
        "    return bode_score"
      ]
    },
    {
      "cell_type": "code",
      "source": [
        "assert calculate_bode_score(70, \"ONLY STRENUOUS EXERCISE\", 350, 25) == 0\n",
        "assert calculate_bode_score(55, \"WALKING UPHILL\", 300, 22) == 2\n",
        "assert calculate_bode_score(40, \"STOPS AFTER A FEW MINUTES\", 100, 18) == 8\n",
        "assert calculate_bode_score(30, \"UNABLE TO LEAVE HOME\", 50, 20) == 10"
      ],
      "metadata": {
        "id": "ux9-ggGHInoN"
      },
      "execution_count": 237,
      "outputs": []
    },
    {
      "cell_type": "code",
      "source": [
        "import doctest\n",
        "doctest.run_docstring_examples(calculate_bode_score, globals(), verbose=True)"
      ],
      "metadata": {
        "colab": {
          "base_uri": "https://localhost:8080/"
        },
        "id": "PqJdUQbqIsTW",
        "outputId": "02521c28-5d76-4276-d5d3-9fd4bfa1739f"
      },
      "execution_count": 238,
      "outputs": [
        {
          "output_type": "stream",
          "name": "stdout",
          "text": [
            "Finding tests in NoName\n",
            "Trying:\n",
            "    calculate_bode_score(70, \"ONLY STRENUOUS EXERCISE\", 350, 25)\n",
            "Expecting:\n",
            "    0\n",
            "ok\n",
            "Trying:\n",
            "    calculate_bode_score(55, \"WALKING UPHILL\", 300, 22)\n",
            "Expecting:\n",
            "    2\n",
            "ok\n",
            "Trying:\n",
            "    calculate_bode_score(40, \"STOPS AFTER A FEW MINUTES\", 100, 18)\n",
            "Expecting:\n",
            "    8\n",
            "ok\n",
            "Trying:\n",
            "    calculate_bode_score(30, \"UNABLE TO LEAVE HOME\", 50, 20)\n",
            "Expecting:\n",
            "    10\n",
            "ok\n"
          ]
        }
      ]
    },
    {
      "cell_type": "markdown",
      "metadata": {
        "id": "SIWjDgMGMDXm"
      },
      "source": [
        "### Step 3: Calculate BODE Risk"
      ]
    },
    {
      "cell_type": "code",
      "execution_count": 239,
      "metadata": {
        "id": "T_MeklbIMDXm"
      },
      "outputs": [],
      "source": [
        "def calculate_bode_risk(bode_score):\n",
        " \"\"\"\n",
        "Calculate the BODE risk based on the BODE score.\n",
        "\n",
        "Parameters:\n",
        "bode_score (int): BODE score.\n",
        "\n",
        "Returns:\n",
        "int: BODE risk.\n",
        "\n",
        "Raises:\n",
        "ValueError: If the BODE score is negative.\n",
        "\n",
        "Risk categories\n",
        "-0 to 2: 80%\n",
        "-3 to 4: 67%\n",
        "-5 to 6: 57%\n",
        "-7 to 10: 18%\n",
        "\n",
        "Examples:\n",
        ">>> calculate_bode_risk(0)\n",
        "80\n",
        "\n",
        ">>> calculate_bode_risk(3)\n",
        "67\n",
        "\n",
        ">>> calculate_bode_risk(6)\n",
        "57\n",
        "\n",
        ">>> calculate_bode_risk(8)\n",
        "18\n",
        "\n",
        ">>> calculate_bode_risk(-1)\n",
        "Traceback (most recent call last):\n",
        "    ...\n",
        "ValueError: BODE score cannot be negative.\n",
        " \"\"\"\n",
        "# Check if the BODE score is negative, which is not allowed, and raise an error if so\n",
        " if bode_score < 0:\n",
        "    raise ValueError(\"BODE score cannot be negative.\")\n",
        "\n",
        "#calculate bode_score:\n",
        " if bode_score <= 2:\n",
        "        return 80\n",
        " elif bode_score <= 4:\n",
        "        return 67\n",
        " elif bode_score <= 6:\n",
        "        return 57\n",
        " else:\n",
        "        return 18"
      ]
    },
    {
      "cell_type": "code",
      "source": [
        "assert calculate_bode_risk(0) == 80\n",
        "assert calculate_bode_risk(3) == 67\n",
        "assert calculate_bode_risk(6) == 57\n",
        "assert calculate_bode_risk(8) == 18"
      ],
      "metadata": {
        "id": "p6Xu4tM3Ixc9"
      },
      "execution_count": 240,
      "outputs": []
    },
    {
      "cell_type": "code",
      "source": [
        "import doctest\n",
        "doctest.run_docstring_examples(calculate_bode_risk, globals(), verbose=True)"
      ],
      "metadata": {
        "colab": {
          "base_uri": "https://localhost:8080/"
        },
        "id": "eEFJmsG4I2u3",
        "outputId": "6f886553-e915-4765-c7f6-14bddf6811dc"
      },
      "execution_count": 241,
      "outputs": [
        {
          "output_type": "stream",
          "name": "stdout",
          "text": [
            "Finding tests in NoName\n",
            "Trying:\n",
            "    calculate_bode_risk(0)\n",
            "Expecting:\n",
            "    80\n",
            "ok\n",
            "Trying:\n",
            "    calculate_bode_risk(3)\n",
            "Expecting:\n",
            "    67\n",
            "ok\n",
            "Trying:\n",
            "    calculate_bode_risk(6)\n",
            "Expecting:\n",
            "    57\n",
            "ok\n",
            "Trying:\n",
            "    calculate_bode_risk(8)\n",
            "Expecting:\n",
            "    18\n",
            "ok\n",
            "Trying:\n",
            "    calculate_bode_risk(-1)\n",
            "Expecting:\n",
            "    Traceback (most recent call last):\n",
            "        ...\n",
            "    ValueError: BODE score cannot be negative.\n",
            "ok\n"
          ]
        }
      ]
    },
    {
      "cell_type": "markdown",
      "metadata": {
        "id": "C7NQpRx1MDXm"
      },
      "source": [
        "### Step 4: Load Hospital Data"
      ]
    },
    {
      "cell_type": "code",
      "execution_count": 242,
      "metadata": {
        "id": "ROuwQo5eMDXn"
      },
      "outputs": [],
      "source": [
        "# import files\n",
        "import json\n",
        "import csv\n",
        "# Open the JSON file containing hospital data\n",
        "with open(\"hospitals.json\") as f:\n",
        "      hospital_data = json.load(f)\n"
      ]
    },
    {
      "cell_type": "markdown",
      "metadata": {
        "id": "QNZ6XNPKMDXn"
      },
      "source": [
        "### Step 5: Main business logic\n",
        "\n",
        "Call BODE Score, BODE Risk functions for each patient.\n",
        "\n",
        "For each hospital, calculate Avg BODE score and Avg BODE risk and count the number of cases for each hospital."
      ]
    },
    {
      "cell_type": "code",
      "execution_count": 243,
      "metadata": {
        "id": "J-6BFNqBMDXn"
      },
      "outputs": [],
      "source": [
        "import csv\n",
        "import json\n",
        "\n",
        "# File paths for input and output files\n",
        "patient_csv = \"patient.csv\"\n",
        "hospital_json = \"hospitals.json\"\n",
        "patient_output_file = \"patient_output.csv\"\n",
        "hospital_output_file = \"hospital_output.csv\"\n",
        "\n",
        "# Load hospital data from JSON file and initialize a dictionary for hospital statistics\n",
        "all_unique_hospitals = {}\n",
        "\n",
        "# Open the hospitals.json file and process it\n",
        "with open(hospital_json) as f:\n",
        "    hospital_data = json.load(f)\n",
        "    #Iterate over hospital systems and their hospitals\n",
        "    for system in hospital_data:\n",
        "        for hospital in system[\"hospitals\"]:\n",
        "            hospital_name = hospital[\"name\"]  #extract hospital names\n",
        "            beds = hospital[\"beds\"]  # extract number of beds\n",
        "            # Initialize the hospital's statistics: total BODE score, patient count, total BODE risk, and beds\n",
        "            all_unique_hospitals[hospital_name] = {'sum_bode_score': 0, 'count': 0, 'total_bode_risk': 0, 'beds': beds}\n",
        "\n",
        "# Preparing lists for patient and hospital output\n",
        "patient_results = [['NAME', 'BODE_SCORE', 'BODE_RISK', 'HOSPITAL']]\n",
        "hospital_output_list = [['HOSPITAL_NAME', 'COPD_COUNT', 'PCT_OF_COPD_CASES_OVER_BEDS', 'AVG_SCORE', 'AVG_RISK']]\n",
        "\n",
        "# Processing each patient from the CSV file\n",
        "with open(patient_csv) as p:\n",
        "    patient_data = csv.reader(p)\n",
        "    headers = next(patient_data)\n",
        "\n",
        "     # Loop over each row in the patient data\n",
        "    for row in patient_data:\n",
        "      #Extract relevant data from each row\n",
        "        try:\n",
        "            hospital_name = row[headers.index('hospital')]\n",
        "            name = row[headers.index('NAME')]\n",
        "            fev_pct = float(row[headers.index('fev_pct')])\n",
        "            dyspnea_description = row[headers.index('dyspnea_description')]\n",
        "            distance_in_meters = float(row[headers.index('distance_in_meters')])\n",
        "            weight_kg = float(row[headers.index('WEIGHT_KG')])\n",
        "            height_m = float(row[headers.index('HEIGHT_M')])\n",
        "\n",
        "            bmi = getBMI(weight_kg, height_m)\n",
        "            bode_score = calculate_bode_score(fev_pct, dyspnea_description, distance_in_meters, bmi,)\n",
        "            bode_risk = calculate_bode_risk(bode_score)\n",
        "\n",
        "            # Update hospital statistics\n",
        "            if hospital_name in all_unique_hospitals:\n",
        "               all_unique_hospitals[hospital_name]['sum_bode_score'] += bode_score\n",
        "               all_unique_hospitals[hospital_name]['count'] += 1\n",
        "               all_unique_hospitals[hospital_name]['total_bode_risk'] += bode_risk\n",
        "\n",
        "            # Adding the patient's results to the output\n",
        "            patient_results.append([name, bode_score, bode_risk, hospital_name])\n",
        "        #exception\n",
        "        except ValueError as e:\n",
        "            print(f\"{row[headers.index('NAME')]}: {e}\")\n",
        "\n",
        "# Calculating statistics for each hospital\n",
        "for hospital_name, stats in all_unique_hospitals.items():\n",
        "    count = stats['count']\n",
        "    beds = stats['beds']\n",
        "    sum_bode_score = stats['sum_bode_score']\n",
        "    total_bode_risk = stats['total_bode_risk']  # Get total BODE risk\n",
        "\n",
        "# calculating average BODE score and Bode risk\n",
        "    if count > 0:\n",
        "        avg_bode_score = sum_bode_score / count\n",
        "        avg_bode_risk = total_bode_risk / count  # Calculate average BODE risk directly\n",
        "        pct_of_copd_cases_over_beds = (count / beds) * 100\n",
        "    else:\n",
        "        avg_bode_score = 0\n",
        "        avg_bode_risk = 0\n",
        "        pct_of_copd_cases_over_beds = 0\n",
        "\n",
        "    # Adding hospital statistics to the output\n",
        "    hospital_output_list.append([hospital_name, count, pct_of_copd_cases_over_beds, avg_bode_score, avg_bode_risk])\n",
        "\n",
        "# Adding the patient results to CSV\n",
        "with open(patient_output_file, 'w', newline='') as csvfile:\n",
        "    writer = csv.writer(csvfile)\n",
        "    writer.writerows(patient_results)\n",
        "\n",
        "# Adding the hospital statistics to CSV\n",
        "with open(hospital_output_file, 'w', newline='') as csvfile:\n",
        "    writer = csv.writer(csvfile)\n",
        "    writer.writerows(hospital_output_list)"
      ]
    },
    {
      "cell_type": "code",
      "source": [
        "print (hospital_output_list)"
      ],
      "metadata": {
        "colab": {
          "base_uri": "https://localhost:8080/"
        },
        "id": "-3fU6oI-jK6Y",
        "outputId": "7a1da578-2a74-40dd-f91f-098a9c94dd14"
      },
      "execution_count": 244,
      "outputs": [
        {
          "output_type": "stream",
          "name": "stdout",
          "text": [
            "[['HOSPITAL_NAME', 'COPD_COUNT', 'PCT_OF_COPD_CASES_OVER_BEDS', 'AVG_SCORE', 'AVG_RISK'], ['BJC', 184, 9.2, 4.4021739130434785, 59.20108695652174], ['BJC WEST COUNTY', 171, 17.1, 4.12280701754386, 61.56140350877193], ['MISSOURI BAPTIST', 161, 20.125, 4.111801242236025, 60.7639751552795], ['SAINT LOUIS UNIVERSITY', 164, 16.400000000000002, 4.4939024390243905, 58.09756097560975], [\"ST.MARY'S\", 156, 31.2, 4.198717948717949, 60.76923076923077], [\"ST.LUKE'S\", 164, 20.5, 4.323170731707317, 59.33536585365854]]\n"
          ]
        }
      ]
    },
    {
      "cell_type": "code",
      "source": [
        "print (all_unique_hospitals)"
      ],
      "metadata": {
        "colab": {
          "base_uri": "https://localhost:8080/"
        },
        "id": "ov8BZY1yqPIC",
        "outputId": "387af20a-ef44-487f-a0b3-5324d753d880"
      },
      "execution_count": 245,
      "outputs": [
        {
          "output_type": "stream",
          "name": "stdout",
          "text": [
            "{'BJC': {'sum_bode_score': 810, 'count': 184, 'total_bode_risk': 10893, 'beds': 2000}, 'BJC WEST COUNTY': {'sum_bode_score': 705, 'count': 171, 'total_bode_risk': 10527, 'beds': 1000}, 'MISSOURI BAPTIST': {'sum_bode_score': 662, 'count': 161, 'total_bode_risk': 9783, 'beds': 800}, 'SAINT LOUIS UNIVERSITY': {'sum_bode_score': 737, 'count': 164, 'total_bode_risk': 9528, 'beds': 1000}, \"ST.MARY'S\": {'sum_bode_score': 655, 'count': 156, 'total_bode_risk': 9480, 'beds': 500}, \"ST.LUKE'S\": {'sum_bode_score': 709, 'count': 164, 'total_bode_risk': 9731, 'beds': 800}}\n"
          ]
        }
      ]
    },
    {
      "cell_type": "code",
      "source": [
        "print (patient_results)"
      ],
      "metadata": {
        "colab": {
          "base_uri": "https://localhost:8080/"
        },
        "id": "9BkFj5Ef67sF",
        "outputId": "c38f1a18-e524-49d0-9338-323228f8ec6c"
      },
      "execution_count": 246,
      "outputs": [
        {
          "output_type": "stream",
          "name": "stdout",
          "text": [
            "[['NAME', 'BODE_SCORE', 'BODE_RISK', 'HOSPITAL'], ['Vanessa Roberts', 3, 67, \"ST.LUKE'S\"], ['Christopher Fox', 3, 67, 'SAINT LOUIS UNIVERSITY'], ['Benjamin Johnston', 4, 67, 'BJC'], ['Christopher Hernandez', 3, 67, 'MISSOURI BAPTIST'], ['Valerie Burch', 0, 80, 'BJC WEST COUNTY'], ['Heather Hart', 3, 67, 'SAINT LOUIS UNIVERSITY'], ['Ronald Cobb', 4, 67, \"ST.MARY'S\"], ['Austin French', 6, 57, 'SAINT LOUIS UNIVERSITY'], ['Mary Leonard', 8, 18, 'BJC'], ['Mrs. Nicole Smith', 5, 57, \"ST.MARY'S\"], ['Ashley Warren', 8, 18, 'BJC'], ['Jeffrey Jacobson', 4, 67, 'BJC WEST COUNTY'], ['Angela Bauer', 5, 57, 'BJC WEST COUNTY'], ['Jerry Rogers', 5, 57, 'BJC'], ['Lisa Beck', 3, 67, 'BJC'], ['Bryan Pena', 6, 57, 'SAINT LOUIS UNIVERSITY'], ['Jessica Henderson', 3, 67, 'SAINT LOUIS UNIVERSITY'], ['Daniel Mitchell', 3, 67, 'MISSOURI BAPTIST'], ['Melanie Graham', 4, 67, 'BJC'], ['Deborah Jimenez', 5, 57, 'MISSOURI BAPTIST'], ['Kathryn Rasmussen', 1, 80, 'BJC WEST COUNTY'], ['Brian Leon', 4, 67, 'BJC'], ['Robert Walker', 6, 57, 'MISSOURI BAPTIST'], ['Drew Case', 5, 57, 'MISSOURI BAPTIST'], ['Joshua Finley', 4, 67, \"ST.LUKE'S\"], ['Danny Smith', 3, 67, 'BJC'], ['Jennifer Smith', 7, 18, 'SAINT LOUIS UNIVERSITY'], ['John Figueroa', 3, 67, \"ST.LUKE'S\"], ['William Whitehead', 4, 67, \"ST.MARY'S\"], ['Paul Trujillo', 6, 57, \"ST.LUKE'S\"], ['Tiffany Lewis', 2, 80, 'SAINT LOUIS UNIVERSITY'], ['Randall Horn', 3, 67, \"ST.MARY'S\"], ['Christopher Maldonado', 5, 57, 'MISSOURI BAPTIST'], ['Darren Fletcher', 3, 67, 'BJC WEST COUNTY'], ['Nathan Arnold', 6, 57, 'SAINT LOUIS UNIVERSITY'], ['Jamie Reeves', 8, 18, \"ST.LUKE'S\"], ['Ian Murphy', 3, 67, 'MISSOURI BAPTIST'], ['Edward Blackwell', 3, 67, 'MISSOURI BAPTIST'], ['Allen Lee', 4, 67, \"ST.MARY'S\"], ['Anthony Dorsey', 5, 57, 'MISSOURI BAPTIST'], ['John Fitzpatrick', 2, 80, \"ST.MARY'S\"], ['Erin Ortiz', 4, 67, \"ST.MARY'S\"], ['Amanda Garcia', 5, 57, 'MISSOURI BAPTIST'], ['Michael Rangel', 6, 57, \"ST.LUKE'S\"], ['John Snyder', 2, 80, 'BJC WEST COUNTY'], ['Dana Mcdonald', 7, 18, \"ST.MARY'S\"], ['Selena Rocha', 5, 57, 'BJC WEST COUNTY'], ['Anna Lopez', 4, 67, 'MISSOURI BAPTIST'], ['Keith Smith', 2, 80, 'MISSOURI BAPTIST'], ['Bryan Smith', 4, 67, 'MISSOURI BAPTIST'], ['Jennifer Tyler', 4, 67, 'BJC WEST COUNTY'], ['Lynn Black', 2, 80, \"ST.LUKE'S\"], ['Alan Johnson', 3, 67, 'BJC WEST COUNTY'], ['Melinda Summers', 4, 67, 'MISSOURI BAPTIST'], ['Larry Waters', 7, 18, 'MISSOURI BAPTIST'], ['Roy Alvarez', 7, 18, 'SAINT LOUIS UNIVERSITY'], ['David Wong', 2, 80, 'MISSOURI BAPTIST'], ['Pedro Kelly', 4, 67, \"ST.LUKE'S\"], ['David Robertson', 3, 67, \"ST.LUKE'S\"], ['William Mayo', 4, 67, 'MISSOURI BAPTIST'], ['Beth Perkins', 4, 67, 'BJC WEST COUNTY'], ['Robert Pierce', 6, 57, \"ST.LUKE'S\"], ['Rebecca Jones', 3, 67, \"ST.LUKE'S\"], ['Christina Johnson', 3, 67, 'SAINT LOUIS UNIVERSITY'], ['Denise Powell', 2, 80, 'BJC WEST COUNTY'], ['Patrick Costa', 5, 57, \"ST.LUKE'S\"], ['Scott Campbell', 4, 67, \"ST.MARY'S\"], ['Cassandra Flores', 7, 18, 'MISSOURI BAPTIST'], ['Brandon Lee', 3, 67, \"ST.MARY'S\"], ['Katie Reed', 3, 67, \"ST.LUKE'S\"], ['Thomas Gonzalez', 3, 67, \"ST.LUKE'S\"], ['Kayla Mcdowell', 1, 80, \"ST.LUKE'S\"], ['Edward Wallace', 7, 18, \"ST.LUKE'S\"], ['Laura Chaney', 5, 57, \"ST.LUKE'S\"], ['Dr. William Clark II', 5, 57, 'BJC'], ['Jared Sherman', 3, 67, 'BJC WEST COUNTY'], ['David Martin', 5, 57, 'SAINT LOUIS UNIVERSITY'], ['Yolanda Hall', 4, 67, \"ST.LUKE'S\"], ['Jasmine Brown', 7, 18, \"ST.LUKE'S\"], ['Laurie Campbell', 6, 57, 'BJC'], ['Dillon Jones', 6, 57, 'MISSOURI BAPTIST'], ['Stephen Perez', 4, 67, 'MISSOURI BAPTIST'], ['James Walls', 4, 67, 'SAINT LOUIS UNIVERSITY'], ['Ronnie Mathews', 6, 57, \"ST.LUKE'S\"], ['Melissa Thompson', 5, 57, 'BJC'], ['Misty Leonard', 9, 18, \"ST.MARY'S\"], ['Monica Bradford', 3, 67, 'SAINT LOUIS UNIVERSITY'], ['Angela Jordan', 5, 57, 'MISSOURI BAPTIST'], ['Stephanie Brown', 4, 67, \"ST.LUKE'S\"], ['Anthony Davis', 6, 57, 'MISSOURI BAPTIST'], ['Maria Davis', 2, 80, 'SAINT LOUIS UNIVERSITY'], ['Kelly Patterson', 5, 57, \"ST.MARY'S\"], ['Ryan Pittman Jr.', 7, 18, \"ST.LUKE'S\"], ['Jonathan Stein', 4, 67, 'SAINT LOUIS UNIVERSITY'], ['Alex Cooper', 1, 80, 'BJC'], ['Kelly Jordan', 3, 67, 'MISSOURI BAPTIST'], ['Andrea Lopez', 5, 57, \"ST.MARY'S\"], ['Paul Tucker', 3, 67, \"ST.LUKE'S\"], ['Cynthia Murphy', 3, 67, 'BJC WEST COUNTY'], ['Matthew Lewis', 3, 67, 'BJC WEST COUNTY'], ['Austin Sanders', 3, 67, 'BJC'], ['Ronald Phillips', 9, 18, 'SAINT LOUIS UNIVERSITY'], ['John Snow', 9, 18, 'BJC'], ['Joan Hahn', 4, 67, 'BJC'], ['Daniel Camacho', 3, 67, 'BJC WEST COUNTY'], ['Gary Martin', 3, 67, 'BJC WEST COUNTY'], ['Christina Moyer', 4, 67, 'MISSOURI BAPTIST'], ['Derek Gibson', 4, 67, 'MISSOURI BAPTIST'], ['Michael Fox', 5, 57, \"ST.LUKE'S\"], ['Alex Terry', 5, 57, 'BJC'], ['Kelsey Hill', 5, 57, 'SAINT LOUIS UNIVERSITY'], ['Dana Wise', 3, 67, 'SAINT LOUIS UNIVERSITY'], ['William Hughes', 5, 57, 'SAINT LOUIS UNIVERSITY'], ['Cassandra Holt', 2, 80, 'BJC'], ['Dr. Christopher Henderson', 6, 57, 'MISSOURI BAPTIST'], ['Amanda Cox', 6, 57, 'BJC'], ['Morgan Kirk', 6, 57, 'SAINT LOUIS UNIVERSITY'], ['Scott Jones', 8, 18, \"ST.LUKE'S\"], ['Chelsea Bailey', 3, 67, \"ST.MARY'S\"], ['Andrew Vasquez', 3, 67, 'BJC WEST COUNTY'], ['Michelle Lyons', 3, 67, 'SAINT LOUIS UNIVERSITY'], ['Shelley Williams', 2, 80, 'MISSOURI BAPTIST'], ['Elizabeth Jimenez', 1, 80, 'BJC WEST COUNTY'], ['Julia Sanders', 3, 67, 'SAINT LOUIS UNIVERSITY'], ['Kimberly Cox', 3, 67, 'BJC'], ['Bryan Pearson', 0, 80, \"ST.MARY'S\"], ['Taylor Stewart', 5, 57, \"ST.MARY'S\"], ['Catherine Lindsey', 1, 80, 'SAINT LOUIS UNIVERSITY'], ['Justin Daniels', 3, 67, 'MISSOURI BAPTIST'], ['Chad Perez', 9, 18, 'BJC'], ['Amy Harper', 1, 80, 'MISSOURI BAPTIST'], ['Monica Williamson', 6, 57, 'BJC WEST COUNTY'], ['Todd Austin', 7, 18, 'MISSOURI BAPTIST'], ['James Smith', 7, 18, 'SAINT LOUIS UNIVERSITY'], ['Robert Lowe', 6, 57, 'BJC'], ['Amy Vasquez', 3, 67, 'MISSOURI BAPTIST'], ['Stephen Hess', 4, 67, \"ST.LUKE'S\"], ['John Brown', 2, 80, \"ST.MARY'S\"], ['Robert Williams', 2, 80, 'BJC'], ['Daniel Hamilton', 4, 67, 'BJC WEST COUNTY'], ['Jennifer Diaz', 6, 57, 'BJC WEST COUNTY'], ['Karen Taylor', 5, 57, \"ST.LUKE'S\"], ['Amy Mitchell', 5, 57, 'BJC'], ['Jacqueline Castillo', 2, 80, 'BJC WEST COUNTY'], ['Samuel Santana', 4, 67, 'MISSOURI BAPTIST'], ['Kevin Hartman', 2, 80, \"ST.LUKE'S\"], ['Mr. Jeffrey Gomez', 6, 57, 'MISSOURI BAPTIST'], ['Antonio Greene', 1, 80, \"ST.MARY'S\"], ['Lindsey Lewis', 4, 67, 'BJC'], ['Jennifer Perez', 4, 67, 'BJC'], ['Tara Johns', 5, 57, 'SAINT LOUIS UNIVERSITY'], ['Matthew Roberts', 4, 67, \"ST.MARY'S\"], ['Theresa Miller', 4, 67, \"ST.MARY'S\"], ['Michael Salinas', 8, 18, 'MISSOURI BAPTIST'], ['Leslie Hudson', 2, 80, \"ST.LUKE'S\"], ['Daniel Gilmore', 1, 80, 'MISSOURI BAPTIST'], ['George Perez', 5, 57, 'BJC'], ['Kristine Kelly', 4, 67, 'BJC WEST COUNTY'], ['Grant Clements', 6, 57, \"ST.MARY'S\"], ['April Johnston', 2, 80, \"ST.LUKE'S\"], ['Jason Robinson', 8, 18, 'MISSOURI BAPTIST'], ['Dustin Brandt', 5, 57, 'BJC WEST COUNTY'], ['Jack Dunn', 3, 67, 'SAINT LOUIS UNIVERSITY'], ['Patricia Watson', 3, 67, 'BJC'], ['Shirley Williams', 7, 18, 'BJC WEST COUNTY'], ['Garrett Rivera', 1, 80, \"ST.MARY'S\"], ['Shirley Jones', 5, 57, 'MISSOURI BAPTIST'], ['Thomas Curtis', 4, 67, 'MISSOURI BAPTIST'], ['Antonio Hanson', 3, 67, \"ST.LUKE'S\"], ['Pamela Roberts', 7, 18, 'SAINT LOUIS UNIVERSITY'], ['Andrea Kim', 5, 57, 'SAINT LOUIS UNIVERSITY'], ['Michael West', 2, 80, \"ST.LUKE'S\"], ['Diana Perez', 4, 67, 'BJC WEST COUNTY'], ['Steve Jones', 4, 67, \"ST.LUKE'S\"], ['Kerry Ali', 2, 80, 'SAINT LOUIS UNIVERSITY'], ['Megan Jenkins', 7, 18, 'BJC'], ['Michael Kennedy', 8, 18, \"ST.LUKE'S\"], ['Vicki Riley', 5, 57, 'SAINT LOUIS UNIVERSITY'], ['Eric Parks', 4, 67, 'BJC'], ['James Avery', 5, 57, 'BJC'], ['Patrick Berry', 3, 67, 'MISSOURI BAPTIST'], ['Connie Campbell', 5, 57, 'BJC WEST COUNTY'], ['Terri Kelly MD', 3, 67, 'MISSOURI BAPTIST'], ['Cristian Cruz', 6, 57, 'BJC'], ['David King', 3, 67, 'MISSOURI BAPTIST'], ['Sarah Hogan', 3, 67, 'SAINT LOUIS UNIVERSITY'], ['Cassandra Stone', 6, 57, \"ST.LUKE'S\"], ['Andrea Perkins', 8, 18, \"ST.MARY'S\"], ['Daniel Abbott', 7, 18, 'BJC'], ['Steve Black', 2, 80, 'SAINT LOUIS UNIVERSITY'], ['David Hanson', 5, 57, 'SAINT LOUIS UNIVERSITY'], ['Denise Buchanan', 6, 57, 'MISSOURI BAPTIST'], ['Jennifer Adams', 1, 80, 'MISSOURI BAPTIST'], ['Carrie Jackson', 3, 67, 'BJC WEST COUNTY'], ['Zachary Hines', 6, 57, \"ST.MARY'S\"], ['Brian Morgan', 3, 67, \"ST.MARY'S\"], ['Wanda Olson', 7, 18, 'BJC'], ['Jennifer Contreras', 6, 57, 'BJC'], ['Robert Ferguson', 1, 80, \"ST.MARY'S\"], ['Savannah Webb', 8, 18, 'MISSOURI BAPTIST'], ['Catherine Christian', 5, 57, \"ST.LUKE'S\"], ['Briana Reed', 5, 57, 'BJC WEST COUNTY'], ['Michael Garcia', 6, 57, \"ST.LUKE'S\"], ['William Smith', 5, 57, \"ST.LUKE'S\"], ['Christopher Houston', 7, 18, \"ST.MARY'S\"], ['Joanne Rivera', 3, 67, 'BJC WEST COUNTY'], ['Lisa Lopez', 6, 57, 'MISSOURI BAPTIST'], ['Nancy Shelton', 6, 57, \"ST.LUKE'S\"], ['Caitlin Little', 4, 67, \"ST.LUKE'S\"], ['Susan Watts', 2, 80, 'BJC WEST COUNTY'], ['Dana Wilson', 4, 67, \"ST.MARY'S\"], ['Thomas Lopez', 3, 67, \"ST.LUKE'S\"], ['David Miles', 7, 18, 'BJC'], ['Derrick Henderson', 5, 57, 'MISSOURI BAPTIST'], ['Christine Smith', 3, 67, 'SAINT LOUIS UNIVERSITY'], ['Tara Ramsey', 3, 67, 'BJC WEST COUNTY'], ['Barbara Cummings', 7, 18, \"ST.LUKE'S\"], ['Eric Kim', 7, 18, 'MISSOURI BAPTIST'], ['Ashley Cruz', 6, 57, 'BJC'], ['Nicole Davis', 4, 67, 'MISSOURI BAPTIST'], ['Robert Marshall', 1, 80, \"ST.LUKE'S\"], ['Terri Phillips', 6, 57, \"ST.MARY'S\"], ['Bradley Zavala', 3, 67, 'SAINT LOUIS UNIVERSITY'], ['Erin Turner', 3, 67, \"ST.MARY'S\"], ['Jackie Lee', 1, 80, 'SAINT LOUIS UNIVERSITY'], ['Joseph Burnett', 8, 18, 'SAINT LOUIS UNIVERSITY'], ['Cassandra Marks', 6, 57, \"ST.LUKE'S\"], ['Steven Massey', 5, 57, 'SAINT LOUIS UNIVERSITY'], ['Anthony Summers', 4, 67, 'BJC WEST COUNTY'], ['Brian Sullivan', 3, 67, 'MISSOURI BAPTIST'], ['Shirley Garcia', 4, 67, \"ST.LUKE'S\"], ['Anthony Cruz', 6, 57, 'BJC WEST COUNTY'], ['Barbara Miller', 6, 57, \"ST.MARY'S\"], ['Margaret Bartlett', 2, 80, 'BJC'], ['Rebecca Hunter', 6, 57, 'BJC'], ['Andrew Cabrera', 8, 18, 'BJC WEST COUNTY'], ['Jeremy Mitchell', 4, 67, 'BJC'], ['Erin Gonzalez', 6, 57, \"ST.LUKE'S\"], ['James Powell', 6, 57, 'MISSOURI BAPTIST'], ['William Bailey', 4, 67, \"ST.MARY'S\"], ['Megan White', 6, 57, \"ST.MARY'S\"], ['William Murphy', 1, 80, 'BJC'], ['Robert Rodriguez', 6, 57, 'SAINT LOUIS UNIVERSITY'], ['David Mcdonald', 3, 67, \"ST.MARY'S\"], ['Jennifer Hart', 3, 67, 'SAINT LOUIS UNIVERSITY'], ['Anna Clark', 5, 57, \"ST.MARY'S\"], ['Joseph Welch', 0, 80, \"ST.MARY'S\"], ['Katrina Gilmore', 4, 67, 'BJC'], ['Peter Jefferson', 2, 80, 'BJC'], ['Jesse Crawford', 0, 80, 'BJC WEST COUNTY'], ['Tracy Vaughan', 5, 57, 'MISSOURI BAPTIST'], ['James Ryan', 4, 67, 'BJC'], ['Jordan Richards', 1, 80, 'SAINT LOUIS UNIVERSITY'], ['Jennifer Walton', 8, 18, 'SAINT LOUIS UNIVERSITY'], ['Kathleen Pineda', 7, 18, 'SAINT LOUIS UNIVERSITY'], ['William Gray', 1, 80, 'MISSOURI BAPTIST'], ['Andrea Mccarthy', 3, 67, 'BJC WEST COUNTY'], ['Todd Murphy', 3, 67, 'MISSOURI BAPTIST'], ['William Owens', 6, 57, \"ST.LUKE'S\"], ['Valerie Hansen', 3, 67, \"ST.MARY'S\"], ['Travis Flores', 8, 18, \"ST.MARY'S\"], ['James Hernandez', 2, 80, 'MISSOURI BAPTIST'], ['Christopher Bowers', 8, 18, 'BJC WEST COUNTY'], ['Vanessa Miller', 2, 80, 'MISSOURI BAPTIST'], ['Joel Dunlap', 8, 18, \"ST.LUKE'S\"], ['Rachel Ortiz', 3, 67, 'MISSOURI BAPTIST'], ['Erin Lyons', 2, 80, 'BJC WEST COUNTY'], ['Rachel Chen', 3, 67, 'SAINT LOUIS UNIVERSITY'], ['Mary Wood', 4, 67, \"ST.LUKE'S\"], ['Glenn Mcintosh', 2, 80, \"ST.MARY'S\"], ['Amber Patterson', 6, 57, \"ST.MARY'S\"], ['George Smith', 4, 67, 'MISSOURI BAPTIST'], ['Kayla Hammond', 3, 67, 'MISSOURI BAPTIST'], ['Aaron Shelton', 0, 80, 'MISSOURI BAPTIST'], ['Tara James', 3, 67, 'BJC'], ['Anne Ferguson', 2, 80, \"ST.LUKE'S\"], ['Joshua Ferguson', 6, 57, \"ST.MARY'S\"], ['Pamela Martin', 4, 67, 'BJC'], ['Kristen Williams', 4, 67, 'BJC'], ['Paul Donovan', 5, 57, 'BJC'], ['Jill Krause', 1, 80, 'BJC WEST COUNTY'], ['Thomas Smith', 6, 57, 'BJC WEST COUNTY'], ['Shannon Fowler DDS', 3, 67, 'MISSOURI BAPTIST'], ['Daniel Burns', 4, 67, \"ST.MARY'S\"], ['Jonathan Silva', 6, 57, 'SAINT LOUIS UNIVERSITY'], ['Sheri Tanner', 9, 18, 'BJC WEST COUNTY'], ['Fred Clark', 3, 67, 'BJC WEST COUNTY'], ['Mrs. Tracy Mercer', 7, 18, 'BJC'], ['Ryan Reynolds', 5, 57, \"ST.LUKE'S\"], ['Kelsey Roberson', 3, 67, 'BJC WEST COUNTY'], ['Jack Bonilla', 6, 57, \"ST.MARY'S\"], ['Melissa Herrera', 4, 67, 'BJC WEST COUNTY'], ['Lisa Robinson', 4, 67, 'BJC'], ['Megan Marshall', 5, 57, \"ST.MARY'S\"], ['Ricky Williams', 3, 67, 'BJC'], ['Brandon Wagner', 2, 80, \"ST.LUKE'S\"], ['Gary Cox', 3, 67, 'MISSOURI BAPTIST'], ['Edward Joyce', 7, 18, \"ST.LUKE'S\"], ['Angela Cruz', 2, 80, 'BJC'], ['Billy Smith', 3, 67, 'BJC WEST COUNTY'], ['Steven Baker', 7, 18, \"ST.LUKE'S\"], ['Daniel Black', 6, 57, 'SAINT LOUIS UNIVERSITY'], ['Tyler Hill', 1, 80, \"ST.LUKE'S\"], ['Stephanie Johnson', 5, 57, 'BJC WEST COUNTY'], ['Crystal Bryant', 2, 80, 'SAINT LOUIS UNIVERSITY'], ['Julie Ingram', 4, 67, 'BJC'], ['Danielle Mckenzie', 9, 18, 'BJC WEST COUNTY'], ['Craig Poole', 0, 80, 'BJC'], ['Melissa Lee', 4, 67, 'SAINT LOUIS UNIVERSITY'], ['Rebecca Fox', 5, 57, 'MISSOURI BAPTIST'], ['Justin Le', 3, 67, 'SAINT LOUIS UNIVERSITY'], ['Chad Gregory', 3, 67, 'BJC WEST COUNTY'], ['Marissa Park', 2, 80, 'SAINT LOUIS UNIVERSITY'], ['Sandra Smith', 2, 80, 'BJC'], ['Jason Tran', 9, 18, 'BJC WEST COUNTY'], ['Andrea Young', 4, 67, \"ST.LUKE'S\"], ['Shelley Wilson', 3, 67, 'MISSOURI BAPTIST'], ['Robert Sharp', 6, 57, 'BJC WEST COUNTY'], ['Stephanie Scott', 3, 67, \"ST.LUKE'S\"], ['Amanda Griffith', 7, 18, 'MISSOURI BAPTIST'], ['Rodney Smith', 5, 57, 'BJC WEST COUNTY'], ['Kaitlin Young', 5, 57, 'BJC WEST COUNTY'], ['Darlene Reyes', 2, 80, 'BJC'], ['Russell Murray', 3, 67, \"ST.LUKE'S\"], ['Bradley Parker', 5, 57, \"ST.LUKE'S\"], ['Matthew Fischer', 3, 67, \"ST.LUKE'S\"], ['Vincent Berger', 2, 80, \"ST.LUKE'S\"], ['Andrew Baker', 3, 67, 'BJC'], ['Angela Parsons', 2, 80, 'BJC WEST COUNTY'], ['Victoria Baker', 4, 67, \"ST.LUKE'S\"], ['Renee Hopkins', 4, 67, 'BJC WEST COUNTY'], ['Leslie Hunter', 3, 67, 'MISSOURI BAPTIST'], ['Susan Graham', 5, 57, 'BJC WEST COUNTY'], ['Timothy White', 6, 57, 'SAINT LOUIS UNIVERSITY'], ['Shannon Hamilton', 4, 67, 'BJC WEST COUNTY'], ['Brian Olson', 2, 80, \"ST.MARY'S\"], ['Rodney Sherman', 1, 80, \"ST.MARY'S\"], ['Daniel Harris', 4, 67, 'BJC WEST COUNTY'], ['April Marks', 4, 67, \"ST.MARY'S\"], ['Michael Rose', 5, 57, 'BJC'], ['Alexander Cervantes', 2, 80, 'SAINT LOUIS UNIVERSITY'], ['Lauren Aguilar', 5, 57, 'MISSOURI BAPTIST'], ['Adam Bass', 4, 67, 'BJC'], ['Rhonda Williams', 5, 57, 'BJC WEST COUNTY'], ['Melissa White', 1, 80, \"ST.LUKE'S\"], ['David Li', 5, 57, 'BJC'], ['Emily Mcclure', 7, 18, \"ST.LUKE'S\"], ['Donald Rogers', 6, 57, \"ST.LUKE'S\"], ['Shane Haley', 9, 18, 'SAINT LOUIS UNIVERSITY'], ['John Perez', 3, 67, \"ST.LUKE'S\"], ['Raymond Frye', 4, 67, \"ST.LUKE'S\"], ['Richard James', 5, 57, 'BJC'], ['Gerald Walters', 5, 57, \"ST.LUKE'S\"], ['Jesus Shepherd', 8, 18, \"ST.MARY'S\"], ['Cindy Garrett', 9, 18, 'BJC'], ['Richard Johnston', 3, 67, \"ST.LUKE'S\"], ['Jennifer Reyes', 6, 57, 'MISSOURI BAPTIST'], ['Dawn Coleman', 0, 80, 'SAINT LOUIS UNIVERSITY'], ['Amy Schmidt', 2, 80, 'MISSOURI BAPTIST'], ['Jonathan Mcdaniel', 9, 18, \"ST.MARY'S\"], ['Diane Howard', 3, 67, 'BJC'], ['Lisa Wilkerson', 5, 57, 'SAINT LOUIS UNIVERSITY'], ['Jason King', 8, 18, \"ST.MARY'S\"], ['Alyssa Mata', 4, 67, \"ST.LUKE'S\"], ['Helen Silva', 5, 57, 'BJC'], ['William Simon', 4, 67, 'BJC'], ['Melissa Campbell', 3, 67, 'BJC WEST COUNTY'], ['Kevin Burnett', 4, 67, \"ST.LUKE'S\"], ['Derek Mosley', 2, 80, \"ST.MARY'S\"], ['Mary Nicholson', 6, 57, 'MISSOURI BAPTIST'], ['Caitlyn Bennett', 6, 57, 'BJC'], ['Karen Byrd', 3, 67, 'MISSOURI BAPTIST'], ['Latasha Hawkins', 3, 67, 'MISSOURI BAPTIST'], ['Melissa Rodriguez', 3, 67, 'BJC'], ['Brian Holt', 5, 57, 'SAINT LOUIS UNIVERSITY'], ['Ian Shaw', 6, 57, 'BJC'], ['Thomas Chavez', 0, 80, \"ST.LUKE'S\"], ['Jon Mcintyre', 3, 67, 'SAINT LOUIS UNIVERSITY'], ['Emily Haynes', 5, 57, 'BJC WEST COUNTY'], ['Hannah Mcknight', 3, 67, 'BJC'], ['David Massey', 2, 80, 'SAINT LOUIS UNIVERSITY'], ['Jill Colon', 4, 67, 'MISSOURI BAPTIST'], ['Sandra Wright', 5, 57, 'SAINT LOUIS UNIVERSITY'], ['Veronica Wagner', 4, 67, 'MISSOURI BAPTIST'], ['Tonya Harris', 5, 57, 'MISSOURI BAPTIST'], ['Walter Lewis', 7, 18, \"ST.MARY'S\"], ['Kari Park', 8, 18, 'BJC WEST COUNTY'], ['Chad Pineda', 4, 67, \"ST.MARY'S\"], ['David Stone', 3, 67, 'BJC'], ['Charles Choi', 4, 67, 'BJC WEST COUNTY'], ['Randall Butler', 3, 67, 'BJC'], ['Douglas Turner', 4, 67, 'BJC WEST COUNTY'], ['Madison Mcneil', 8, 18, 'SAINT LOUIS UNIVERSITY'], ['Chad Haney', 4, 67, 'SAINT LOUIS UNIVERSITY'], ['Ricky Watson', 4, 67, \"ST.MARY'S\"], ['Steven Long', 5, 57, 'BJC'], ['Jonathan Murray', 1, 80, 'MISSOURI BAPTIST'], ['Jerry Ramirez', 5, 57, \"ST.MARY'S\"], ['Randy Wallace', 2, 80, 'BJC'], ['Nathan Gonzalez', 3, 67, 'SAINT LOUIS UNIVERSITY'], ['Daniel Weiss', 4, 67, 'BJC'], ['James Brewer', 0, 80, 'BJC WEST COUNTY'], ['Heather Morgan', 3, 67, \"ST.LUKE'S\"], ['Charles Edwards', 5, 57, 'SAINT LOUIS UNIVERSITY'], ['Christina Lewis', 4, 67, \"ST.LUKE'S\"], ['Frank Riley', 6, 57, 'BJC WEST COUNTY'], ['Rebecca Gomez', 5, 57, 'BJC'], ['Christopher Pruitt', 1, 80, 'MISSOURI BAPTIST'], ['Dr. Steven Williams DVM', 5, 57, 'BJC'], ['Ryan Rush', 8, 18, 'SAINT LOUIS UNIVERSITY'], ['Rhonda Carr', 6, 57, 'BJC'], ['Miss Kimberly Rios MD', 3, 67, 'MISSOURI BAPTIST'], ['Ashley Barton', 6, 57, 'BJC WEST COUNTY'], ['Anna Grant', 3, 67, 'MISSOURI BAPTIST'], ['Amanda Johnson', 3, 67, 'MISSOURI BAPTIST'], ['Emily Thomas', 5, 57, 'MISSOURI BAPTIST'], ['Christy Jones', 6, 57, 'BJC'], ['Danny Foster', 3, 67, 'MISSOURI BAPTIST'], ['James Allen', 5, 57, \"ST.MARY'S\"], ['Tyrone Jimenez', 7, 18, 'SAINT LOUIS UNIVERSITY'], ['Cynthia Hopkins', 1, 80, 'BJC WEST COUNTY'], ['Devon Wilcox', 2, 80, \"ST.LUKE'S\"], ['John Farley', 5, 57, \"ST.MARY'S\"], ['Hector Arroyo', 5, 57, 'SAINT LOUIS UNIVERSITY'], ['Brandon Thompson', 2, 80, \"ST.LUKE'S\"], ['Scott Patel', 5, 57, 'BJC'], ['Karen Bishop', 3, 67, 'SAINT LOUIS UNIVERSITY'], ['Tony Wheeler', 4, 67, \"ST.LUKE'S\"], ['Arthur Munoz', 4, 67, 'BJC'], ['Edward Holloway', 6, 57, 'BJC WEST COUNTY'], ['Lisa Perry', 5, 57, 'BJC WEST COUNTY'], ['Pamela Green', 7, 18, 'BJC'], ['Kimberly Macdonald', 6, 57, \"ST.LUKE'S\"], ['Thomas Colon', 4, 67, 'SAINT LOUIS UNIVERSITY'], ['Paul Davis', 2, 80, 'SAINT LOUIS UNIVERSITY'], ['Ronnie Rush', 4, 67, 'SAINT LOUIS UNIVERSITY'], ['Erik Wilson', 5, 57, 'BJC WEST COUNTY'], ['Crystal Clark', 4, 67, 'SAINT LOUIS UNIVERSITY'], ['Megan Smith', 9, 18, 'BJC WEST COUNTY'], ['Jonathan Durham', 2, 80, 'BJC WEST COUNTY'], ['Timothy Hawkins', 0, 80, 'MISSOURI BAPTIST'], ['Christopher Perry', 1, 80, \"ST.MARY'S\"], ['Samuel Duke', 4, 67, 'MISSOURI BAPTIST'], ['Kevin Mason', 7, 18, 'BJC WEST COUNTY'], ['Ian Clark', 5, 57, 'BJC'], ['Ryan Boyd', 8, 18, 'BJC WEST COUNTY'], ['Valerie Calderon', 4, 67, \"ST.MARY'S\"], ['Ryan Davis', 6, 57, \"ST.LUKE'S\"], ['Sara Smith', 0, 80, 'BJC WEST COUNTY'], ['Samuel Keith', 6, 57, 'BJC'], ['Renee White', 4, 67, \"ST.MARY'S\"], ['Heidi Johnson', 4, 67, 'BJC WEST COUNTY'], ['Tara Walker', 6, 57, \"ST.MARY'S\"], ['Nathan Lee', 2, 80, \"ST.MARY'S\"], ['Victor Reyes', 3, 67, \"ST.LUKE'S\"], ['Rebecca Jones', 5, 57, 'BJC WEST COUNTY'], ['Susan Ryan', 6, 57, 'MISSOURI BAPTIST'], ['Rachel Richmond', 4, 67, 'SAINT LOUIS UNIVERSITY'], ['Leslie Smith', 4, 67, 'SAINT LOUIS UNIVERSITY'], ['Jorge Williams', 4, 67, 'SAINT LOUIS UNIVERSITY'], ['Kelly Lewis', 1, 80, \"ST.MARY'S\"], ['Mathew Welch', 3, 67, \"ST.MARY'S\"], ['Lauren Burns', 4, 67, 'SAINT LOUIS UNIVERSITY'], ['Margaret Beasley', 6, 57, 'MISSOURI BAPTIST'], ['Patricia Gordon', 3, 67, 'BJC WEST COUNTY'], ['Martha Richardson', 1, 80, 'BJC WEST COUNTY'], ['Heather Yates', 4, 67, 'BJC WEST COUNTY'], ['Mark Pearson', 2, 80, 'SAINT LOUIS UNIVERSITY'], ['Melanie Rollins', 4, 67, 'MISSOURI BAPTIST'], ['Darren Mosley', 2, 80, 'BJC WEST COUNTY'], ['Kelly Smith', 2, 80, 'SAINT LOUIS UNIVERSITY'], ['Teresa Morton', 3, 67, \"ST.MARY'S\"], ['Eric Hess', 5, 57, 'SAINT LOUIS UNIVERSITY'], ['Mary Ramirez', 6, 57, 'MISSOURI BAPTIST'], ['Michael Gilbert', 4, 67, \"ST.MARY'S\"], ['Daniel Moody', 6, 57, 'MISSOURI BAPTIST'], ['Pamela Moore', 6, 57, 'SAINT LOUIS UNIVERSITY'], ['John Spence', 3, 67, 'BJC WEST COUNTY'], ['Sandra Hancock', 6, 57, 'MISSOURI BAPTIST'], ['James Anderson', 3, 67, 'BJC'], ['Pamela Hamilton', 2, 80, 'BJC'], ['Brenda Johnson', 3, 67, 'MISSOURI BAPTIST'], ['Melissa Hernandez', 2, 80, 'SAINT LOUIS UNIVERSITY'], ['Barry Fisher', 3, 67, \"ST.MARY'S\"], ['Samuel Pruitt', 1, 80, 'BJC WEST COUNTY'], ['Theresa Barnes', 6, 57, 'BJC WEST COUNTY'], ['Chase Hamilton', 6, 57, 'BJC'], ['Joshua Villa', 6, 57, 'BJC'], ['Carol Ramirez', 1, 80, 'BJC WEST COUNTY'], ['Stacy Olsen', 8, 18, 'BJC'], ['Samantha Pena', 2, 80, 'BJC'], ['Corey Cook', 5, 57, \"ST.MARY'S\"], ['Mrs. Brittany Flynn', 4, 67, 'BJC'], ['Allen Nicholson', 7, 18, \"ST.MARY'S\"], ['Robert Snow', 4, 67, 'MISSOURI BAPTIST'], ['James Wallace', 6, 57, \"ST.MARY'S\"], ['Francisco Fernandez', 5, 57, \"ST.MARY'S\"], ['Wyatt Baird', 5, 57, 'BJC WEST COUNTY'], ['Randy Johnson', 2, 80, 'BJC WEST COUNTY'], ['Maria Paul', 3, 67, 'BJC WEST COUNTY'], ['Kent Carr', 2, 80, \"ST.MARY'S\"], ['Mark Thomas', 6, 57, \"ST.MARY'S\"], ['Danielle Peterson', 6, 57, \"ST.MARY'S\"], ['Jason Pratt', 4, 67, 'BJC WEST COUNTY'], ['Melissa Mcclain', 7, 18, 'MISSOURI BAPTIST'], ['Jacqueline Blankenship', 4, 67, 'MISSOURI BAPTIST'], ['Michael Nicholson', 6, 57, \"ST.LUKE'S\"], ['Kathryn Hill', 7, 18, \"ST.LUKE'S\"], ['Timothy Coleman', 5, 57, \"ST.LUKE'S\"], ['Troy Johnson', 7, 18, 'BJC'], ['Joseph Mathis', 2, 80, 'MISSOURI BAPTIST'], ['Jeffrey Lopez', 4, 67, 'BJC WEST COUNTY'], ['Kimberly Hill', 3, 67, \"ST.MARY'S\"], ['Barbara Smith', 4, 67, 'BJC WEST COUNTY'], ['Robert Quinn', 5, 57, 'BJC WEST COUNTY'], ['Jeremy Garrison', 3, 67, 'BJC WEST COUNTY'], ['Michael Davis', 8, 18, 'SAINT LOUIS UNIVERSITY'], ['Natalie Richmond', 0, 80, 'MISSOURI BAPTIST'], ['Jamie Hughes', 4, 67, 'SAINT LOUIS UNIVERSITY'], ['Jeffrey Jordan', 5, 57, 'MISSOURI BAPTIST'], ['Raven Sexton', 3, 67, 'BJC'], ['Tim Lynch', 7, 18, 'BJC'], ['Joy Davis', 4, 67, \"ST.MARY'S\"], ['James Grimes', 5, 57, \"ST.LUKE'S\"], ['Barry Williams', 5, 57, 'SAINT LOUIS UNIVERSITY'], ['Kathryn Nelson', 1, 80, 'MISSOURI BAPTIST'], ['David Ramirez', 4, 67, 'BJC WEST COUNTY'], ['Linda Oconnor', 6, 57, 'BJC WEST COUNTY'], ['Christopher Huang', 6, 57, \"ST.MARY'S\"], ['Anthony Gray', 3, 67, 'SAINT LOUIS UNIVERSITY'], ['Christopher Phillips', 2, 80, 'BJC WEST COUNTY'], ['Victoria West', 5, 57, 'MISSOURI BAPTIST'], ['Teresa Mendoza', 7, 18, 'SAINT LOUIS UNIVERSITY'], ['Jason Brown', 2, 80, 'BJC WEST COUNTY'], ['Heidi Campbell', 2, 80, 'MISSOURI BAPTIST'], ['Samantha Salazar', 5, 57, \"ST.LUKE'S\"], ['Melinda Hernandez', 4, 67, 'BJC'], ['Rebecca Washington', 4, 67, 'BJC'], ['Joshua Skinner', 1, 80, \"ST.LUKE'S\"], ['Sean Robertson', 6, 57, 'BJC WEST COUNTY'], ['Justin Jones', 6, 57, 'BJC WEST COUNTY'], ['Brandon Casey', 3, 67, 'MISSOURI BAPTIST'], ['Jill Hancock', 4, 67, 'MISSOURI BAPTIST'], ['Nicole Hart', 6, 57, \"ST.LUKE'S\"], ['Todd Rogers', 2, 80, 'SAINT LOUIS UNIVERSITY'], ['Raymond Harding', 6, 57, 'BJC'], ['Steven House', 2, 80, \"ST.MARY'S\"], ['Danielle Holmes', 3, 67, 'MISSOURI BAPTIST'], ['Tina Wilson', 3, 67, \"ST.LUKE'S\"], ['Lindsey Jones', 5, 57, 'BJC'], ['Samantha Martinez', 1, 80, 'BJC'], ['Gregory Mejia', 1, 80, 'BJC'], ['Tonya Craig', 4, 67, \"ST.LUKE'S\"], ['Jacqueline Guzman', 0, 80, \"ST.MARY'S\"], ['Thomas Santiago', 6, 57, 'BJC WEST COUNTY'], ['Dawn Wright', 4, 67, 'SAINT LOUIS UNIVERSITY'], ['Eric Walters', 3, 67, \"ST.LUKE'S\"], ['Matthew Brown', 7, 18, \"ST.LUKE'S\"], ['Derek Travis', 9, 18, \"ST.MARY'S\"], ['Jessica Jackson', 6, 57, 'SAINT LOUIS UNIVERSITY'], ['Laura Robertson', 4, 67, 'BJC WEST COUNTY'], ['Briana Cooper', 6, 57, \"ST.LUKE'S\"], ['Debra Bennett', 4, 67, 'BJC WEST COUNTY'], ['Marissa Webb', 3, 67, 'SAINT LOUIS UNIVERSITY'], ['Patricia Maldonado', 6, 57, 'MISSOURI BAPTIST'], ['Misty Roth DDS', 5, 57, \"ST.LUKE'S\"], ['Dawn Johnson', 5, 57, 'SAINT LOUIS UNIVERSITY'], ['Jacob Haley', 4, 67, 'MISSOURI BAPTIST'], ['Olivia Williams', 5, 57, 'BJC WEST COUNTY'], ['Clifford Peterson', 7, 18, 'BJC'], ['Natalie Morales', 4, 67, \"ST.MARY'S\"], ['Robert Hicks', 3, 67, 'BJC WEST COUNTY'], ['Adrienne Hutchinson', 5, 57, 'SAINT LOUIS UNIVERSITY'], ['Perry Rice', 2, 80, 'SAINT LOUIS UNIVERSITY'], ['Zachary Tyler', 3, 67, \"ST.MARY'S\"], ['Brittany Roberts', 4, 67, 'BJC'], ['Victoria Phelps', 6, 57, \"ST.MARY'S\"], ['Tiffany Aguilar', 5, 57, 'BJC WEST COUNTY'], ['Brent Kennedy', 4, 67, \"ST.MARY'S\"], ['Erica Johnson', 3, 67, 'SAINT LOUIS UNIVERSITY'], ['Jamie Powell', 3, 67, \"ST.MARY'S\"], ['Linda Anderson', 1, 80, \"ST.MARY'S\"], ['Emily Daniel', 1, 80, 'BJC WEST COUNTY'], ['Eric Vasquez', 5, 57, \"ST.MARY'S\"], ['Crystal Kim', 5, 57, 'SAINT LOUIS UNIVERSITY'], ['Kristen Olson', 8, 18, 'BJC'], ['Mark Dawson', 5, 57, 'BJC WEST COUNTY'], ['Darren Velez', 8, 18, \"ST.LUKE'S\"], ['Jacob Williams', 5, 57, 'SAINT LOUIS UNIVERSITY'], ['Jennifer Blair', 2, 80, \"ST.MARY'S\"], ['Neil Thompson', 6, 57, 'BJC'], ['Victoria Humphrey', 6, 57, 'SAINT LOUIS UNIVERSITY'], ['Justin Rubio', 8, 18, \"ST.LUKE'S\"], ['Frank Robertson', 5, 57, 'BJC'], ['James Ford', 3, 67, \"ST.MARY'S\"], ['Leah Reeves', 5, 57, 'BJC'], ['Dawn Nichols', 3, 67, 'BJC'], ['Amanda Nelson', 4, 67, \"ST.LUKE'S\"], ['Ebony Chandler MD', 3, 67, \"ST.MARY'S\"], ['Anthony Lopez', 3, 67, 'BJC'], ['Daniel Jefferson', 5, 57, 'BJC'], ['Ryan Miller', 5, 57, \"ST.LUKE'S\"], ['Jessica Munoz', 3, 67, \"ST.MARY'S\"], ['Stacey White', 2, 80, 'BJC'], ['Daniel Allen', 1, 80, 'SAINT LOUIS UNIVERSITY'], ['Robert Barnes', 3, 67, \"ST.LUKE'S\"], ['Thomas Bender', 3, 67, 'SAINT LOUIS UNIVERSITY'], ['Ian Fletcher', 4, 67, 'MISSOURI BAPTIST'], ['Terri Lynch', 8, 18, \"ST.LUKE'S\"], ['Kimberly Acosta', 4, 67, \"ST.MARY'S\"], ['Dawn Hughes', 3, 67, \"ST.LUKE'S\"], ['Ryan Mcdaniel', 3, 67, \"ST.MARY'S\"], ['Ebony Flores', 6, 57, \"ST.MARY'S\"], ['Julia Simpson', 3, 67, \"ST.MARY'S\"], ['Joshua Garcia', 3, 67, 'SAINT LOUIS UNIVERSITY'], ['Stephanie Walker', 6, 57, \"ST.LUKE'S\"], ['Adrian Rose', 3, 67, 'BJC'], ['Evan Jones', 3, 67, \"ST.MARY'S\"], ['Andrew Benton', 7, 18, 'BJC WEST COUNTY'], ['Shawn White', 1, 80, \"ST.LUKE'S\"], ['Kevin Hill', 6, 57, 'BJC WEST COUNTY'], ['Kimberly Osborn', 4, 67, \"ST.MARY'S\"], ['Laura Scott', 1, 80, \"ST.LUKE'S\"], ['Patricia Murphy', 1, 80, 'BJC'], ['Christopher Brown', 6, 57, 'SAINT LOUIS UNIVERSITY'], ['Willie Hernandez', 6, 57, 'BJC'], ['William May', 3, 67, 'BJC'], ['Jesus Stewart', 5, 57, 'MISSOURI BAPTIST'], ['Wendy Cox', 5, 57, 'BJC WEST COUNTY'], ['Ethan Ortiz', 3, 67, \"ST.LUKE'S\"], ['Crystal Wilson', 5, 57, 'MISSOURI BAPTIST'], ['Kenneth Clark', 4, 67, 'BJC WEST COUNTY'], ['Melissa Johnson', 6, 57, \"ST.LUKE'S\"], ['Dr. Lauren Cunningham', 2, 80, 'MISSOURI BAPTIST'], ['Gabriel Fowler', 3, 67, 'MISSOURI BAPTIST'], ['Michael Carson', 5, 57, 'SAINT LOUIS UNIVERSITY'], ['Michael Baker', 2, 80, 'SAINT LOUIS UNIVERSITY'], ['Michelle Velez', 3, 67, 'BJC'], ['Michael Bennett', 4, 67, 'SAINT LOUIS UNIVERSITY'], ['Rebecca Dickerson', 6, 57, \"ST.MARY'S\"], ['Carla Mills', 7, 18, 'MISSOURI BAPTIST'], ['Catherine Lynch', 8, 18, 'SAINT LOUIS UNIVERSITY'], ['Erin Parrish', 2, 80, 'BJC'], ['Sheila Bell', 6, 57, \"ST.LUKE'S\"], ['Scott Bartlett', 5, 57, 'BJC'], ['Jason Stewart II', 2, 80, 'SAINT LOUIS UNIVERSITY'], ['Zachary Durham', 5, 57, 'SAINT LOUIS UNIVERSITY'], ['Jonathan Bell', 9, 18, 'BJC'], ['Paul Welch', 2, 80, 'SAINT LOUIS UNIVERSITY'], ['John Williams', 5, 57, 'SAINT LOUIS UNIVERSITY'], ['Stephanie Brown', 2, 80, \"ST.LUKE'S\"], ['Laura Davis', 1, 80, \"ST.MARY'S\"], ['Karla Irwin', 3, 67, 'BJC'], ['Reginald Hall', 6, 57, 'BJC WEST COUNTY'], ['Gary Johnson', 9, 18, 'MISSOURI BAPTIST'], ['Roy Miller', 6, 57, \"ST.LUKE'S\"], ['Ronald Buck', 5, 57, 'SAINT LOUIS UNIVERSITY'], ['Paul Davis', 5, 57, \"ST.LUKE'S\"], ['Ricky Suarez', 4, 67, 'SAINT LOUIS UNIVERSITY'], ['Jennifer Ferguson', 8, 18, 'BJC WEST COUNTY'], ['Melissa Lucas', 2, 80, \"ST.LUKE'S\"], ['Jonathan Davis', 3, 67, \"ST.MARY'S\"], ['Dawn Bell', 4, 67, 'BJC'], ['Michael Martin', 2, 80, 'BJC WEST COUNTY'], ['Ashley Nixon', 6, 57, 'SAINT LOUIS UNIVERSITY'], ['Joseph Taylor', 4, 67, 'SAINT LOUIS UNIVERSITY'], ['Pedro West', 6, 57, 'BJC'], ['Jennifer Moreno', 2, 80, \"ST.MARY'S\"], ['Alexandra Greene', 4, 67, \"ST.LUKE'S\"], ['Vanessa Luna', 2, 80, \"ST.MARY'S\"], ['William Hall', 6, 57, 'BJC'], ['Lisa Warren', 9, 18, 'MISSOURI BAPTIST'], ['Jason Anderson', 5, 57, 'SAINT LOUIS UNIVERSITY'], ['Arthur Callahan', 6, 57, 'BJC'], ['Kenneth Thomas', 3, 67, 'MISSOURI BAPTIST'], ['Matthew Peterson', 8, 18, \"ST.MARY'S\"], ['Monica Brennan', 4, 67, 'BJC'], ['Caitlin Dean', 3, 67, \"ST.LUKE'S\"], ['Craig Wells', 6, 57, 'MISSOURI BAPTIST'], ['Gary Richard', 3, 67, 'BJC'], ['Melissa Smith', 1, 80, 'MISSOURI BAPTIST'], ['William Green', 6, 57, 'SAINT LOUIS UNIVERSITY'], ['Jacob Blackwell', 3, 67, 'MISSOURI BAPTIST'], ['Hector Lee', 4, 67, \"ST.MARY'S\"], ['Natasha Adkins', 7, 18, 'SAINT LOUIS UNIVERSITY'], ['James Dixon', 6, 57, 'SAINT LOUIS UNIVERSITY'], ['Collin Garcia', 9, 18, 'BJC WEST COUNTY'], ['Christopher Chavez', 5, 57, 'BJC'], ['Kara Walker', 5, 57, 'BJC'], ['Jessica Hernandez', 2, 80, 'SAINT LOUIS UNIVERSITY'], ['Kathy Parks', 6, 57, 'SAINT LOUIS UNIVERSITY'], ['Sarah Ingram', 4, 67, 'BJC'], ['Kevin Clark', 2, 80, 'BJC'], ['Jill Arias', 5, 57, 'BJC'], ['Christine Bowen', 2, 80, 'SAINT LOUIS UNIVERSITY'], ['Mark Tate', 4, 67, 'MISSOURI BAPTIST'], ['Megan Palmer', 7, 18, 'SAINT LOUIS UNIVERSITY'], ['Laura Miller', 8, 18, 'MISSOURI BAPTIST'], ['Jamie Pennington', 5, 57, 'BJC WEST COUNTY'], ['Natalie Herrera', 8, 18, 'BJC WEST COUNTY'], ['Nicole Anderson', 3, 67, 'BJC'], ['Sarah Brown', 4, 67, 'MISSOURI BAPTIST'], ['John Walter', 6, 57, 'BJC WEST COUNTY'], ['Mario Padilla', 1, 80, 'MISSOURI BAPTIST'], ['Brent Bates', 3, 67, 'BJC WEST COUNTY'], ['John Lewis', 7, 18, 'SAINT LOUIS UNIVERSITY'], ['Christopher Mendoza', 3, 67, 'MISSOURI BAPTIST'], ['Christopher Henson', 1, 80, 'BJC WEST COUNTY'], ['Luis Harris', 5, 57, 'BJC'], ['Jerry Patterson', 3, 67, 'MISSOURI BAPTIST'], ['Danielle Walker', 5, 57, \"ST.LUKE'S\"], ['Jesse Harris', 6, 57, 'BJC'], ['Lisa Rogers', 3, 67, 'SAINT LOUIS UNIVERSITY'], ['Carly Williams', 2, 80, \"ST.MARY'S\"], ['Danielle Stewart', 7, 18, 'SAINT LOUIS UNIVERSITY'], ['Janet Henderson', 7, 18, 'MISSOURI BAPTIST'], ['Jennifer Castillo', 4, 67, 'MISSOURI BAPTIST'], ['Nicholas Hatfield', 5, 57, 'SAINT LOUIS UNIVERSITY'], ['Mr. Scott Anderson', 3, 67, 'BJC WEST COUNTY'], ['Lisa Reynolds', 4, 67, 'BJC WEST COUNTY'], ['Francisco Acosta', 6, 57, 'SAINT LOUIS UNIVERSITY'], ['Jennifer Robinson', 3, 67, \"ST.LUKE'S\"], ['Jeffery Le', 5, 57, 'SAINT LOUIS UNIVERSITY'], ['Christina Watson', 1, 80, 'SAINT LOUIS UNIVERSITY'], ['Shawn Mcdowell', 4, 67, 'BJC WEST COUNTY'], ['Maria Garcia', 4, 67, 'SAINT LOUIS UNIVERSITY'], ['Michael Santiago', 6, 57, 'BJC'], ['Eric Solis', 6, 57, \"ST.LUKE'S\"], ['John Harper', 8, 18, 'MISSOURI BAPTIST'], ['Paula Pollard', 3, 67, 'SAINT LOUIS UNIVERSITY'], ['Calvin Newton', 4, 67, 'MISSOURI BAPTIST'], ['Michelle Simpson', 6, 57, \"ST.MARY'S\"], ['Chad Duffy', 5, 57, 'MISSOURI BAPTIST'], ['Tamara Lozano', 7, 18, 'MISSOURI BAPTIST'], ['Robert Alvarado', 1, 80, 'BJC WEST COUNTY'], ['Brandon Mills', 5, 57, 'MISSOURI BAPTIST'], ['Elizabeth Thomas', 3, 67, 'BJC'], ['Pamela Mendez', 2, 80, 'BJC'], ['Casey Miller', 4, 67, 'BJC WEST COUNTY'], ['Ashley Hood', 4, 67, 'MISSOURI BAPTIST'], ['Kathy Reid', 2, 80, \"ST.LUKE'S\"], ['Angela Parks', 4, 67, 'BJC'], ['Carrie Black', 2, 80, 'MISSOURI BAPTIST'], ['Lori Valenzuela', 4, 67, 'BJC'], ['Melanie Hernandez', 4, 67, 'MISSOURI BAPTIST'], ['Sean French', 7, 18, 'BJC'], ['David Lewis', 6, 57, \"ST.LUKE'S\"], ['John Williams', 3, 67, 'BJC WEST COUNTY'], ['Sean Hall', 0, 80, 'MISSOURI BAPTIST'], ['Zachary Fernandez', 6, 57, \"ST.LUKE'S\"], ['Cesar Olson', 4, 67, 'BJC WEST COUNTY'], ['Teresa Peterson', 4, 67, 'BJC WEST COUNTY'], ['Samuel Ramirez', 5, 57, \"ST.LUKE'S\"], ['Alyssa Park', 5, 57, \"ST.LUKE'S\"], ['Daniel Golden', 4, 67, 'BJC WEST COUNTY'], ['Ruth Hayes', 3, 67, 'BJC WEST COUNTY'], ['Tonya Freeman', 3, 67, \"ST.LUKE'S\"], ['Brittany Chavez', 3, 67, \"ST.MARY'S\"], ['Kelsey Roth', 4, 67, 'SAINT LOUIS UNIVERSITY'], ['David James', 4, 67, 'MISSOURI BAPTIST'], ['Michael Wallace', 6, 57, 'MISSOURI BAPTIST'], ['Stephanie Sexton', 4, 67, \"ST.LUKE'S\"], ['Hunter Cook', 3, 67, 'MISSOURI BAPTIST'], ['Stacy Pearson', 8, 18, 'SAINT LOUIS UNIVERSITY'], ['Danielle Murray', 5, 57, 'BJC'], ['Alan Ali', 2, 80, 'MISSOURI BAPTIST'], ['Theodore Davis', 2, 80, \"ST.MARY'S\"], ['Nathan Johnson', 6, 57, 'SAINT LOUIS UNIVERSITY'], ['Heather Parrish', 4, 67, 'SAINT LOUIS UNIVERSITY'], ['Robert Edwards', 1, 80, \"ST.MARY'S\"], ['Steve Howard', 3, 67, \"ST.MARY'S\"], ['Todd Clark', 4, 67, 'SAINT LOUIS UNIVERSITY'], ['Justin Douglas', 5, 57, 'BJC WEST COUNTY'], ['Caroline Sawyer', 6, 57, 'SAINT LOUIS UNIVERSITY'], ['David Taylor', 2, 80, 'BJC'], ['Sarah Kelly', 4, 67, 'BJC WEST COUNTY'], ['Thomas Torres', 3, 67, 'MISSOURI BAPTIST'], ['Patricia Keller', 3, 67, 'BJC'], ['Erica Brown', 3, 67, 'BJC'], ['Katherine Bailey', 0, 80, 'MISSOURI BAPTIST'], ['Jorge Thomas', 4, 67, 'MISSOURI BAPTIST'], ['Ashley Walker', 5, 57, \"ST.MARY'S\"], ['Donna Lester', 4, 67, 'BJC WEST COUNTY'], ['Robert Li', 6, 57, 'BJC WEST COUNTY'], ['Alan Cunningham', 3, 67, 'MISSOURI BAPTIST'], ['Peter Blair', 5, 57, \"ST.LUKE'S\"], ['Willie Kirk', 1, 80, \"ST.LUKE'S\"], ['Michelle Barber', 3, 67, \"ST.LUKE'S\"], ['Gabriel Andersen', 3, 67, \"ST.LUKE'S\"], ['Leah Rich', 4, 67, \"ST.LUKE'S\"], ['Dr. Kimberly Booth DVM', 2, 80, 'BJC WEST COUNTY'], ['Jeremy May', 5, 57, 'BJC'], ['Elizabeth Ellis', 7, 18, 'MISSOURI BAPTIST'], ['Michael Harris', 4, 67, 'BJC WEST COUNTY'], ['David Olsen', 3, 67, 'BJC WEST COUNTY'], ['Matthew Morgan', 7, 18, 'BJC'], ['Shelly Lynch', 3, 67, 'BJC WEST COUNTY'], ['Denise Frazier', 1, 80, \"ST.LUKE'S\"], ['Michael Nelson', 5, 57, 'BJC WEST COUNTY'], ['Jerome Newman', 4, 67, 'SAINT LOUIS UNIVERSITY'], ['Carolyn Martinez', 5, 57, \"ST.LUKE'S\"], ['Megan Miller', 4, 67, \"ST.MARY'S\"], ['Mr. James Smith', 5, 57, \"ST.MARY'S\"], ['Kenneth Booth', 6, 57, 'BJC WEST COUNTY'], ['Jennifer Welch', 2, 80, \"ST.MARY'S\"], ['Zachary Smith', 4, 67, 'SAINT LOUIS UNIVERSITY'], ['Molly Bentley', 6, 57, \"ST.LUKE'S\"], ['Cory Davidson', 3, 67, 'MISSOURI BAPTIST'], ['Judith Santana', 5, 57, 'BJC'], ['Corey Gutierrez', 2, 80, 'BJC WEST COUNTY'], ['Ryan Hall', 4, 67, \"ST.LUKE'S\"], ['Amanda Cooley', 6, 57, 'SAINT LOUIS UNIVERSITY'], ['Courtney George', 4, 67, 'MISSOURI BAPTIST'], ['Judy Owens', 3, 67, \"ST.MARY'S\"], ['Erin Day', 3, 67, \"ST.LUKE'S\"], ['Brett Clark', 7, 18, 'BJC WEST COUNTY'], ['Hannah Fisher', 5, 57, 'BJC'], ['Ms. Shirley Stewart DDS', 7, 18, 'SAINT LOUIS UNIVERSITY'], ['Grace Chambers', 1, 80, 'BJC WEST COUNTY'], ['Hannah Garcia', 5, 57, \"ST.MARY'S\"], ['Roger Ramirez', 8, 18, 'BJC'], ['Sandra Frazier', 5, 57, \"ST.LUKE'S\"], ['Monique Schmidt', 4, 67, 'BJC'], ['Frank Whitaker', 7, 18, \"ST.LUKE'S\"], ['Kyle Castillo', 6, 57, 'BJC WEST COUNTY'], ['Kristi Joseph', 3, 67, \"ST.LUKE'S\"], ['Jerry Shepard', 3, 67, \"ST.MARY'S\"], ['Brittany Garcia', 0, 80, 'BJC'], ['Jacob Gomez', 6, 57, \"ST.MARY'S\"], ['Elizabeth Brown', 3, 67, \"ST.MARY'S\"], ['Kristina Montgomery', 8, 18, \"ST.LUKE'S\"], ['George Nelson', 5, 57, 'BJC WEST COUNTY'], ['Kristen Cabrera', 5, 57, \"ST.MARY'S\"], ['Kyle Wright', 8, 18, \"ST.MARY'S\"], ['Daniel Mcbride', 6, 57, 'SAINT LOUIS UNIVERSITY'], ['Jesse Ortiz', 3, 67, \"ST.MARY'S\"], ['Brandon Phillips', 7, 18, 'BJC'], ['Timothy Rivera', 5, 57, \"ST.LUKE'S\"], ['Wanda Davis', 1, 80, 'SAINT LOUIS UNIVERSITY'], ['Alyssa Rodriguez', 0, 80, 'BJC WEST COUNTY'], ['Curtis Smith', 7, 18, 'MISSOURI BAPTIST'], ['Laurie Smith', 6, 57, 'SAINT LOUIS UNIVERSITY'], ['Brittany Collier', 8, 18, 'SAINT LOUIS UNIVERSITY'], ['Wendy Wright', 4, 67, 'SAINT LOUIS UNIVERSITY'], ['Michelle Carpenter', 6, 57, \"ST.MARY'S\"], ['Ryan Yates', 4, 67, 'SAINT LOUIS UNIVERSITY'], ['Dr. Vincent Turner', 5, 57, 'SAINT LOUIS UNIVERSITY'], ['Michael Davis', 2, 80, 'BJC WEST COUNTY'], ['Mr. Tyler Hendrix', 3, 67, \"ST.MARY'S\"], ['Regina Clark', 7, 18, \"ST.MARY'S\"], ['Brandon Kelley', 6, 57, \"ST.MARY'S\"], ['Lori Moses', 4, 67, 'SAINT LOUIS UNIVERSITY'], ['Derek Caldwell', 3, 67, 'BJC'], ['Cory Pollard', 4, 67, 'BJC'], ['Lisa Bauer', 1, 80, 'BJC'], ['Amy Nash', 4, 67, 'BJC WEST COUNTY'], ['Billy Watkins', 2, 80, \"ST.LUKE'S\"], ['Andrew Flores', 2, 80, \"ST.LUKE'S\"], ['Collin Clark', 3, 67, \"ST.MARY'S\"], ['Lynn Carr', 6, 57, \"ST.MARY'S\"], ['Michael Barnes', 4, 67, 'BJC WEST COUNTY'], ['Karen Maynard', 8, 18, 'BJC'], ['Katrina Brown', 2, 80, 'BJC WEST COUNTY'], ['Tiffany Ruiz', 4, 67, \"ST.LUKE'S\"], ['Sarah Henderson', 5, 57, \"ST.MARY'S\"], ['Tracy Strong', 2, 80, 'MISSOURI BAPTIST'], ['Melissa Chavez', 8, 18, \"ST.LUKE'S\"], ['Vanessa Rose', 4, 67, 'BJC'], ['Susan Williams', 6, 57, \"ST.MARY'S\"], ['Nicole Morse', 5, 57, \"ST.MARY'S\"], ['Kristina Moran', 2, 80, 'BJC'], ['Michelle Fisher', 8, 18, 'SAINT LOUIS UNIVERSITY'], ['Noah Wilson', 3, 67, \"ST.LUKE'S\"], ['Keith Morton', 4, 67, 'BJC'], ['Darren Calhoun', 4, 67, \"ST.LUKE'S\"], ['Elizabeth Nunez', 4, 67, \"ST.MARY'S\"], ['Patrick Matthews', 1, 80, 'MISSOURI BAPTIST'], ['Shannon Coleman', 4, 67, \"ST.MARY'S\"], ['Elizabeth Graham', 7, 18, \"ST.MARY'S\"], ['Mary Harmon', 3, 67, \"ST.MARY'S\"], ['Scott Morgan', 4, 67, 'BJC'], ['Kendra Potter', 5, 57, 'BJC'], ['Jennifer Bishop', 6, 57, 'BJC'], ['Wendy Brooks', 3, 67, 'MISSOURI BAPTIST'], ['Peter Henderson', 0, 80, \"ST.MARY'S\"], ['Danielle Vaughan', 4, 67, \"ST.LUKE'S\"], ['Paul Phillips', 5, 57, \"ST.LUKE'S\"], ['Jessica Ramirez', 2, 80, 'BJC'], ['Colleen Robinson', 2, 80, 'SAINT LOUIS UNIVERSITY'], ['Amy Sanchez', 5, 57, \"ST.MARY'S\"], ['Andrew Wilson', 2, 80, 'MISSOURI BAPTIST'], ['Matthew Collins', 4, 67, \"ST.LUKE'S\"], ['Jill Lewis', 6, 57, 'BJC WEST COUNTY'], ['Kristen Hall', 4, 67, \"ST.MARY'S\"], ['Jordan Rivera', 5, 57, 'BJC WEST COUNTY'], ['Jonathon Anderson', 3, 67, 'SAINT LOUIS UNIVERSITY'], ['Julia Curtis', 6, 57, 'SAINT LOUIS UNIVERSITY'], ['David Jones', 4, 67, 'BJC'], ['Christopher Bennett', 7, 18, \"ST.LUKE'S\"], ['Anthony Wright', 8, 18, 'SAINT LOUIS UNIVERSITY'], ['Christopher Paul', 4, 67, \"ST.MARY'S\"], ['Justin Davidson', 7, 18, 'BJC WEST COUNTY'], ['Dr. Heather Martin', 5, 57, 'BJC'], ['Kristopher Baker', 5, 57, \"ST.MARY'S\"], ['Katie Johnson', 4, 67, 'SAINT LOUIS UNIVERSITY'], ['Christian Bowen', 6, 57, 'BJC WEST COUNTY'], ['Melissa Carter', 3, 67, 'BJC'], ['Shannon Walker', 2, 80, \"ST.LUKE'S\"], ['Amanda Singh', 1, 80, 'BJC'], ['Michael Sanders', 6, 57, \"ST.MARY'S\"], ['Ryan Morris', 1, 80, 'BJC WEST COUNTY'], ['Michael Sanchez', 1, 80, 'BJC'], ['Erin Stevens', 4, 67, \"ST.MARY'S\"], ['Kyle Pierce', 3, 67, 'BJC WEST COUNTY'], ['Christy Collins', 3, 67, \"ST.MARY'S\"], ['Jessica Doyle', 2, 80, 'BJC'], ['Jessica Johnson', 8, 18, \"ST.MARY'S\"], ['Cheryl Matthews', 6, 57, 'MISSOURI BAPTIST'], ['Molly Chen', 5, 57, 'BJC WEST COUNTY'], ['Kyle Price', 5, 57, \"ST.LUKE'S\"], ['Christopher Stevens', 2, 80, \"ST.LUKE'S\"], ['Traci Love', 0, 80, \"ST.MARY'S\"], ['Heidi Haynes', 5, 57, 'SAINT LOUIS UNIVERSITY'], ['Sean Parker', 3, 67, 'BJC'], ['Timothy Smith', 6, 57, 'MISSOURI BAPTIST'], ['Austin Boone', 3, 67, 'BJC'], ['Todd Walls', 4, 67, 'BJC'], ['Richard Davis', 4, 67, 'BJC WEST COUNTY'], ['Erin Turner', 5, 57, 'SAINT LOUIS UNIVERSITY'], ['Matthew Riley', 5, 57, \"ST.LUKE'S\"], ['Mark Cardenas', 6, 57, \"ST.MARY'S\"], ['Tiffany Mcdonald', 6, 57, 'BJC WEST COUNTY'], ['Mrs. Stephanie Hebert PhD', 6, 57, 'BJC WEST COUNTY'], ['Amy Hernandez', 4, 67, 'SAINT LOUIS UNIVERSITY'], ['Bethany Molina', 5, 57, 'BJC'], ['Connor Patterson', 5, 57, 'MISSOURI BAPTIST'], ['James Brown', 6, 57, \"ST.MARY'S\"], ['Alexander Cunningham', 4, 67, 'BJC'], ['Kathleen Fernandez', 7, 18, 'MISSOURI BAPTIST'], ['Joe Arnold', 4, 67, 'BJC'], ['Michael Thomas', 3, 67, 'MISSOURI BAPTIST'], ['Catherine Hampton', 2, 80, 'MISSOURI BAPTIST'], ['Stephen Palmer', 4, 67, \"ST.MARY'S\"], ['Dennis Edwards DDS', 6, 57, 'MISSOURI BAPTIST'], ['Tiffany Flores', 4, 67, \"ST.LUKE'S\"], ['Leslie Stewart', 4, 67, 'BJC'], ['Keith Caldwell', 1, 80, 'BJC'], ['Andrew Crosby', 4, 67, 'BJC'], ['John Alvarez', 8, 18, 'SAINT LOUIS UNIVERSITY'], ['Rachel Shannon', 7, 18, 'BJC WEST COUNTY'], ['Joanna Richardson DDS', 5, 57, 'MISSOURI BAPTIST'], ['Eric Watson', 4, 67, 'BJC WEST COUNTY'], ['Justin Lynch', 3, 67, 'BJC'], ['Cynthia Jones', 5, 57, 'MISSOURI BAPTIST'], ['Gary Cobb', 3, 67, \"ST.LUKE'S\"], ['Daniel Potter', 5, 57, \"ST.LUKE'S\"], ['Laurie Brady', 4, 67, 'MISSOURI BAPTIST'], ['Kellie Lane MD', 6, 57, 'BJC'], ['Sandra Bell', 8, 18, 'BJC'], ['Sarah Edwards', 5, 57, \"ST.MARY'S\"], ['Amanda Knight', 7, 18, \"ST.LUKE'S\"], ['William Nelson', 2, 80, \"ST.MARY'S\"], ['Ashley Bernard', 5, 57, 'BJC'], ['Selena Taylor', 6, 57, 'BJC'], ['Linda Franco', 2, 80, 'BJC'], ['Charles Ramos', 4, 67, \"ST.LUKE'S\"], ['Anthony Smith', 2, 80, \"ST.LUKE'S\"], ['Andrew Cox', 4, 67, 'BJC WEST COUNTY'], ['Danielle Clayton', 3, 67, 'BJC WEST COUNTY'], ['Michael Wilcox', 3, 67, 'BJC WEST COUNTY'], ['Wendy Dunn', 4, 67, \"ST.LUKE'S\"], ['Robert Maynard', 5, 57, 'SAINT LOUIS UNIVERSITY'], ['William Kaiser', 7, 18, \"ST.LUKE'S\"], ['Erin Mejia', 6, 57, \"ST.MARY'S\"], ['Kenneth Jones', 5, 57, \"ST.LUKE'S\"], ['Janet Brown', 4, 67, 'BJC WEST COUNTY'], ['Hunter Fuentes', 3, 67, 'SAINT LOUIS UNIVERSITY'], ['William Arellano', 4, 67, 'BJC WEST COUNTY'], ['Cory Bowers', 5, 57, \"ST.MARY'S\"], ['Luke Price', 4, 67, 'BJC WEST COUNTY'], ['Cindy Rodgers', 7, 18, \"ST.MARY'S\"], ['Robert Tran', 2, 80, \"ST.LUKE'S\"], ['Susan Ware', 7, 18, \"ST.MARY'S\"], ['Jordan Gallegos', 6, 57, 'MISSOURI BAPTIST'], ['Kara Bennett', 1, 80, 'SAINT LOUIS UNIVERSITY'], ['Jason Clayton', 2, 80, 'BJC WEST COUNTY'], ['Lauren Bradley', 4, 67, 'SAINT LOUIS UNIVERSITY'], ['Pamela Clayton', 7, 18, 'BJC WEST COUNTY'], ['Kristina Cowan', 2, 80, \"ST.LUKE'S\"], ['Anthony Hanson MD', 6, 57, 'MISSOURI BAPTIST'], ['Amanda Johnson', 8, 18, 'SAINT LOUIS UNIVERSITY'], ['Carl Short', 5, 57, 'BJC'], ['Taylor Price', 5, 57, 'SAINT LOUIS UNIVERSITY'], ['Katie Davis', 3, 67, \"ST.MARY'S\"], ['Alison Duncan', 2, 80, \"ST.MARY'S\"], ['Destiny Estrada', 9, 18, 'BJC'], ['Ronald Montoya', 6, 57, 'SAINT LOUIS UNIVERSITY'], ['Brooke Baker', 8, 18, 'BJC'], ['Kristen Williams', 7, 18, \"ST.LUKE'S\"], ['Jacob Levine', 5, 57, \"ST.LUKE'S\"]]\n"
          ]
        }
      ]
    }
  ],
  "metadata": {
    "colab": {
      "provenance": [],
      "include_colab_link": true
    },
    "kernelspec": {
      "display_name": "Python 3",
      "language": "python",
      "name": "python3"
    },
    "language_info": {
      "codemirror_mode": {
        "name": "ipython",
        "version": 3
      },
      "file_extension": ".py",
      "mimetype": "text/x-python",
      "name": "python",
      "nbconvert_exporter": "python",
      "pygments_lexer": "ipython3",
      "version": "3.11.5"
    }
  },
  "nbformat": 4,
  "nbformat_minor": 0
}